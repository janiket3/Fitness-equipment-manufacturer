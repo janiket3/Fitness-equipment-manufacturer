{
 "cells": [
  {
   "cell_type": "code",
   "execution_count": 1,
   "id": "e8661693-9c21-4027-97db-b72abe67c7cc",
   "metadata": {
    "tags": []
   },
   "outputs": [],
   "source": [
    "import numpy as np\n",
    "import pandas as pd\n",
    "import seaborn as sns\n",
    "import matplotlib.pyplot as plt\n",
    "\n",
    "import scipy.stats\n",
    "from scipy.stats import norm\n",
    "from scipy.stats import binom, geom"
   ]
  },
  {
   "cell_type": "raw",
   "id": "e025e3b6-344e-4763-8a70-5b2e474e8346",
   "metadata": {},
   "source": [
    "About Aerofit\n",
    "\n",
    "Aerofit is a leading brand in the field of fitness equipment. Aerofit provides a product range including machines such as treadmills, exercise bikes, gym equipment, and fitness accessories to cater to the needs of all categories of people.\n",
    "\n",
    "Problem Statement:\n",
    "\n",
    "The market research team at AeroFit wants to identify the characteristics of the target audience \n",
    "for each type of treadmill offered by the company, to provide a better recommendation of the treadmills \n",
    "to the new customers. \n",
    "The team decides to investigate whether there are differences across the product with respect to customer characteristics.\n",
    "\n",
    "\n",
    "Product portfolio:\n",
    "    - The KP281 is an entry-level treadmill that sells for $1,500.\n",
    "    - The KP481 is for mid-level runners that sell for $1,750.\n",
    "    - The KP781 treadmill is having advanced features that sell for $2,500.\n"
   ]
  },
  {
   "cell_type": "raw",
   "id": "2ae4002f-dd62-42ac-a1cf-a5561a4b32d8",
   "metadata": {},
   "source": []
  },
  {
   "cell_type": "code",
   "execution_count": null,
   "id": "a8d0c276-8ace-4c08-bb17-a39510b4971e",
   "metadata": {},
   "outputs": [],
   "source": []
  },
  {
   "cell_type": "code",
   "execution_count": 75,
   "id": "5486af15-cb35-4df6-ac39-0446f2acf91c",
   "metadata": {
    "tags": []
   },
   "outputs": [
    {
     "data": {
      "text/html": [
       "<div>\n",
       "<style scoped>\n",
       "    .dataframe tbody tr th:only-of-type {\n",
       "        vertical-align: middle;\n",
       "    }\n",
       "\n",
       "    .dataframe tbody tr th {\n",
       "        vertical-align: top;\n",
       "    }\n",
       "\n",
       "    .dataframe thead th {\n",
       "        text-align: right;\n",
       "    }\n",
       "</style>\n",
       "<table border=\"1\" class=\"dataframe\">\n",
       "  <thead>\n",
       "    <tr style=\"text-align: right;\">\n",
       "      <th></th>\n",
       "      <th>Product</th>\n",
       "      <th>Age</th>\n",
       "      <th>Gender</th>\n",
       "      <th>Education</th>\n",
       "      <th>MaritalStatus</th>\n",
       "      <th>Usage</th>\n",
       "      <th>Fitness</th>\n",
       "      <th>Income</th>\n",
       "      <th>Miles</th>\n",
       "    </tr>\n",
       "  </thead>\n",
       "  <tbody>\n",
       "    <tr>\n",
       "      <th>0</th>\n",
       "      <td>KP281</td>\n",
       "      <td>18</td>\n",
       "      <td>Male</td>\n",
       "      <td>14</td>\n",
       "      <td>Single</td>\n",
       "      <td>3</td>\n",
       "      <td>4</td>\n",
       "      <td>29562</td>\n",
       "      <td>112</td>\n",
       "    </tr>\n",
       "    <tr>\n",
       "      <th>1</th>\n",
       "      <td>KP281</td>\n",
       "      <td>19</td>\n",
       "      <td>Male</td>\n",
       "      <td>15</td>\n",
       "      <td>Single</td>\n",
       "      <td>2</td>\n",
       "      <td>3</td>\n",
       "      <td>31836</td>\n",
       "      <td>75</td>\n",
       "    </tr>\n",
       "    <tr>\n",
       "      <th>2</th>\n",
       "      <td>KP281</td>\n",
       "      <td>19</td>\n",
       "      <td>Female</td>\n",
       "      <td>14</td>\n",
       "      <td>Partnered</td>\n",
       "      <td>4</td>\n",
       "      <td>3</td>\n",
       "      <td>30699</td>\n",
       "      <td>66</td>\n",
       "    </tr>\n",
       "    <tr>\n",
       "      <th>3</th>\n",
       "      <td>KP281</td>\n",
       "      <td>19</td>\n",
       "      <td>Male</td>\n",
       "      <td>12</td>\n",
       "      <td>Single</td>\n",
       "      <td>3</td>\n",
       "      <td>3</td>\n",
       "      <td>32973</td>\n",
       "      <td>85</td>\n",
       "    </tr>\n",
       "    <tr>\n",
       "      <th>4</th>\n",
       "      <td>KP281</td>\n",
       "      <td>20</td>\n",
       "      <td>Male</td>\n",
       "      <td>13</td>\n",
       "      <td>Partnered</td>\n",
       "      <td>4</td>\n",
       "      <td>2</td>\n",
       "      <td>35247</td>\n",
       "      <td>47</td>\n",
       "    </tr>\n",
       "    <tr>\n",
       "      <th>...</th>\n",
       "      <td>...</td>\n",
       "      <td>...</td>\n",
       "      <td>...</td>\n",
       "      <td>...</td>\n",
       "      <td>...</td>\n",
       "      <td>...</td>\n",
       "      <td>...</td>\n",
       "      <td>...</td>\n",
       "      <td>...</td>\n",
       "    </tr>\n",
       "    <tr>\n",
       "      <th>175</th>\n",
       "      <td>KP781</td>\n",
       "      <td>40</td>\n",
       "      <td>Male</td>\n",
       "      <td>21</td>\n",
       "      <td>Single</td>\n",
       "      <td>6</td>\n",
       "      <td>5</td>\n",
       "      <td>83416</td>\n",
       "      <td>200</td>\n",
       "    </tr>\n",
       "    <tr>\n",
       "      <th>176</th>\n",
       "      <td>KP781</td>\n",
       "      <td>42</td>\n",
       "      <td>Male</td>\n",
       "      <td>18</td>\n",
       "      <td>Single</td>\n",
       "      <td>5</td>\n",
       "      <td>4</td>\n",
       "      <td>89641</td>\n",
       "      <td>200</td>\n",
       "    </tr>\n",
       "    <tr>\n",
       "      <th>177</th>\n",
       "      <td>KP781</td>\n",
       "      <td>45</td>\n",
       "      <td>Male</td>\n",
       "      <td>16</td>\n",
       "      <td>Single</td>\n",
       "      <td>5</td>\n",
       "      <td>5</td>\n",
       "      <td>90886</td>\n",
       "      <td>160</td>\n",
       "    </tr>\n",
       "    <tr>\n",
       "      <th>178</th>\n",
       "      <td>KP781</td>\n",
       "      <td>47</td>\n",
       "      <td>Male</td>\n",
       "      <td>18</td>\n",
       "      <td>Partnered</td>\n",
       "      <td>4</td>\n",
       "      <td>5</td>\n",
       "      <td>104581</td>\n",
       "      <td>120</td>\n",
       "    </tr>\n",
       "    <tr>\n",
       "      <th>179</th>\n",
       "      <td>KP781</td>\n",
       "      <td>48</td>\n",
       "      <td>Male</td>\n",
       "      <td>18</td>\n",
       "      <td>Partnered</td>\n",
       "      <td>4</td>\n",
       "      <td>5</td>\n",
       "      <td>95508</td>\n",
       "      <td>180</td>\n",
       "    </tr>\n",
       "  </tbody>\n",
       "</table>\n",
       "<p>180 rows × 9 columns</p>\n",
       "</div>"
      ],
      "text/plain": [
       "    Product  Age  Gender  Education MaritalStatus  Usage  Fitness  Income  \\\n",
       "0     KP281   18    Male         14        Single      3        4   29562   \n",
       "1     KP281   19    Male         15        Single      2        3   31836   \n",
       "2     KP281   19  Female         14     Partnered      4        3   30699   \n",
       "3     KP281   19    Male         12        Single      3        3   32973   \n",
       "4     KP281   20    Male         13     Partnered      4        2   35247   \n",
       "..      ...  ...     ...        ...           ...    ...      ...     ...   \n",
       "175   KP781   40    Male         21        Single      6        5   83416   \n",
       "176   KP781   42    Male         18        Single      5        4   89641   \n",
       "177   KP781   45    Male         16        Single      5        5   90886   \n",
       "178   KP781   47    Male         18     Partnered      4        5  104581   \n",
       "179   KP781   48    Male         18     Partnered      4        5   95508   \n",
       "\n",
       "     Miles  \n",
       "0      112  \n",
       "1       75  \n",
       "2       66  \n",
       "3       85  \n",
       "4       47  \n",
       "..     ...  \n",
       "175    200  \n",
       "176    200  \n",
       "177    160  \n",
       "178    120  \n",
       "179    180  \n",
       "\n",
       "[180 rows x 9 columns]"
      ]
     },
     "execution_count": 75,
     "metadata": {},
     "output_type": "execute_result"
    }
   ],
   "source": [
    "# Importing the dataset\n",
    "df = pd.read_csv(\"aerofit_treadmill.csv\")\n",
    "df"
   ]
  },
  {
   "cell_type": "code",
   "execution_count": null,
   "id": "a4403808-5e3b-423e-965a-fcf7737a7824",
   "metadata": {},
   "outputs": [],
   "source": []
  },
  {
   "cell_type": "code",
   "execution_count": 76,
   "id": "22900f65-0fcb-48a6-ac44-c9bf9f084bf5",
   "metadata": {
    "tags": []
   },
   "outputs": [],
   "source": [
    "# creating a copy of dataframe to retrive the original df later.\n",
    "df2 = df.copy()\n"
   ]
  },
  {
   "cell_type": "code",
   "execution_count": 77,
   "id": "21966464-7681-4653-a997-bbefd3e76621",
   "metadata": {
    "tags": []
   },
   "outputs": [
    {
     "data": {
      "text/plain": [
       "False"
      ]
     },
     "execution_count": 77,
     "metadata": {},
     "output_type": "execute_result"
    }
   ],
   "source": [
    "# as we can notice, the copy created is a deep copy\n",
    "np.shares_memory(df, df2)"
   ]
  },
  {
   "cell_type": "code",
   "execution_count": null,
   "id": "e41a65a6-a556-4a99-bbb6-0fc76fc9a41d",
   "metadata": {},
   "outputs": [],
   "source": []
  },
  {
   "cell_type": "markdown",
   "id": "e3b1f867-8201-4df0-adbe-c5cc9228eabb",
   "metadata": {},
   "source": [
    "# Analysing basic metrics"
   ]
  },
  {
   "cell_type": "code",
   "execution_count": 59,
   "id": "4f3ba4f4-1931-4d12-b14b-a0a158730d85",
   "metadata": {
    "tags": []
   },
   "outputs": [
    {
     "data": {
      "text/plain": [
       "(180, 9)"
      ]
     },
     "execution_count": 59,
     "metadata": {},
     "output_type": "execute_result"
    }
   ],
   "source": [
    "df.shape"
   ]
  },
  {
   "cell_type": "raw",
   "id": "cef3de07-f759-4903-a652-824c98217a70",
   "metadata": {},
   "source": [
    "From shape, it is clear that Our dataset contains 180 rows and 9 columns"
   ]
  },
  {
   "cell_type": "code",
   "execution_count": null,
   "id": "8e6711f5-11c3-4c48-8f9b-77bb7e2e93ba",
   "metadata": {},
   "outputs": [],
   "source": []
  },
  {
   "cell_type": "code",
   "execution_count": 60,
   "id": "a5379779-891c-4a25-9b18-a3b04a746001",
   "metadata": {
    "tags": []
   },
   "outputs": [
    {
     "name": "stdout",
     "output_type": "stream",
     "text": [
      "<class 'pandas.core.frame.DataFrame'>\n",
      "RangeIndex: 180 entries, 0 to 179\n",
      "Data columns (total 9 columns):\n",
      " #   Column         Non-Null Count  Dtype \n",
      "---  ------         --------------  ----- \n",
      " 0   Product        180 non-null    object\n",
      " 1   Age            180 non-null    int64 \n",
      " 2   Gender         180 non-null    object\n",
      " 3   Education      180 non-null    int64 \n",
      " 4   MaritalStatus  180 non-null    object\n",
      " 5   Usage          180 non-null    int64 \n",
      " 6   Fitness        180 non-null    int64 \n",
      " 7   Income         180 non-null    int64 \n",
      " 8   Miles          180 non-null    int64 \n",
      "dtypes: int64(6), object(3)\n",
      "memory usage: 12.8+ KB\n"
     ]
    }
   ],
   "source": [
    "df.info()"
   ]
  },
  {
   "cell_type": "raw",
   "id": "8a696b38-d074-438a-8d11-b993e91e0d66",
   "metadata": {},
   "source": [
    "- so our dataset doesnt have any missing value--> no need to perform any missing value treatment\n",
    "- there are 6 integer columns and 3 categorical columns\n",
    "- based on the information provided along with the dataset, \n",
    "  it would be better to convert \"Usage\" & \"Fitness\" to categorical variables\n"
   ]
  },
  {
   "cell_type": "code",
   "execution_count": 61,
   "id": "3b871468-0a58-419d-ae2f-ed651c25eaff",
   "metadata": {
    "tags": []
   },
   "outputs": [],
   "source": [
    "# converting \"Usage\" & \"Fitness\" columns to categorical variables\n",
    "df[[\"Usage\", \"Fitness\"]] = df[[\"Usage\", \"Fitness\"]].astype(\"object\")"
   ]
  },
  {
   "cell_type": "code",
   "execution_count": 62,
   "id": "514c5df4-e599-470e-975a-4836c68a2c49",
   "metadata": {
    "tags": []
   },
   "outputs": [
    {
     "name": "stdout",
     "output_type": "stream",
     "text": [
      "<class 'pandas.core.frame.DataFrame'>\n",
      "RangeIndex: 180 entries, 0 to 179\n",
      "Data columns (total 9 columns):\n",
      " #   Column         Non-Null Count  Dtype \n",
      "---  ------         --------------  ----- \n",
      " 0   Product        180 non-null    object\n",
      " 1   Age            180 non-null    int64 \n",
      " 2   Gender         180 non-null    object\n",
      " 3   Education      180 non-null    int64 \n",
      " 4   MaritalStatus  180 non-null    object\n",
      " 5   Usage          180 non-null    object\n",
      " 6   Fitness        180 non-null    object\n",
      " 7   Income         180 non-null    int64 \n",
      " 8   Miles          180 non-null    int64 \n",
      "dtypes: int64(4), object(5)\n",
      "memory usage: 12.8+ KB\n"
     ]
    }
   ],
   "source": [
    "# \"Usage\" & \"Fitness\" are converted to object Dtype\n",
    "df.info()"
   ]
  },
  {
   "cell_type": "code",
   "execution_count": 78,
   "id": "d42965cb-b73a-40ec-90b5-91e16d5d97d4",
   "metadata": {
    "tags": []
   },
   "outputs": [
    {
     "data": {
      "text/html": [
       "<div>\n",
       "<style scoped>\n",
       "    .dataframe tbody tr th:only-of-type {\n",
       "        vertical-align: middle;\n",
       "    }\n",
       "\n",
       "    .dataframe tbody tr th {\n",
       "        vertical-align: top;\n",
       "    }\n",
       "\n",
       "    .dataframe thead th {\n",
       "        text-align: right;\n",
       "    }\n",
       "</style>\n",
       "<table border=\"1\" class=\"dataframe\">\n",
       "  <thead>\n",
       "    <tr style=\"text-align: right;\">\n",
       "      <th></th>\n",
       "      <th>Product</th>\n",
       "      <th>Age</th>\n",
       "      <th>Gender</th>\n",
       "      <th>Education</th>\n",
       "      <th>MaritalStatus</th>\n",
       "      <th>Usage</th>\n",
       "      <th>Fitness</th>\n",
       "      <th>Income</th>\n",
       "      <th>Miles</th>\n",
       "    </tr>\n",
       "  </thead>\n",
       "  <tbody>\n",
       "    <tr>\n",
       "      <th>count</th>\n",
       "      <td>180</td>\n",
       "      <td>180.000000</td>\n",
       "      <td>180</td>\n",
       "      <td>180.000000</td>\n",
       "      <td>180</td>\n",
       "      <td>180.000000</td>\n",
       "      <td>180.000000</td>\n",
       "      <td>180.000000</td>\n",
       "      <td>180.000000</td>\n",
       "    </tr>\n",
       "    <tr>\n",
       "      <th>unique</th>\n",
       "      <td>3</td>\n",
       "      <td>NaN</td>\n",
       "      <td>2</td>\n",
       "      <td>NaN</td>\n",
       "      <td>2</td>\n",
       "      <td>NaN</td>\n",
       "      <td>NaN</td>\n",
       "      <td>NaN</td>\n",
       "      <td>NaN</td>\n",
       "    </tr>\n",
       "    <tr>\n",
       "      <th>top</th>\n",
       "      <td>KP281</td>\n",
       "      <td>NaN</td>\n",
       "      <td>Male</td>\n",
       "      <td>NaN</td>\n",
       "      <td>Partnered</td>\n",
       "      <td>NaN</td>\n",
       "      <td>NaN</td>\n",
       "      <td>NaN</td>\n",
       "      <td>NaN</td>\n",
       "    </tr>\n",
       "    <tr>\n",
       "      <th>freq</th>\n",
       "      <td>80</td>\n",
       "      <td>NaN</td>\n",
       "      <td>104</td>\n",
       "      <td>NaN</td>\n",
       "      <td>107</td>\n",
       "      <td>NaN</td>\n",
       "      <td>NaN</td>\n",
       "      <td>NaN</td>\n",
       "      <td>NaN</td>\n",
       "    </tr>\n",
       "    <tr>\n",
       "      <th>mean</th>\n",
       "      <td>NaN</td>\n",
       "      <td>28.788889</td>\n",
       "      <td>NaN</td>\n",
       "      <td>15.572222</td>\n",
       "      <td>NaN</td>\n",
       "      <td>3.455556</td>\n",
       "      <td>3.311111</td>\n",
       "      <td>53719.577778</td>\n",
       "      <td>103.194444</td>\n",
       "    </tr>\n",
       "    <tr>\n",
       "      <th>std</th>\n",
       "      <td>NaN</td>\n",
       "      <td>6.943498</td>\n",
       "      <td>NaN</td>\n",
       "      <td>1.617055</td>\n",
       "      <td>NaN</td>\n",
       "      <td>1.084797</td>\n",
       "      <td>0.958869</td>\n",
       "      <td>16506.684226</td>\n",
       "      <td>51.863605</td>\n",
       "    </tr>\n",
       "    <tr>\n",
       "      <th>min</th>\n",
       "      <td>NaN</td>\n",
       "      <td>18.000000</td>\n",
       "      <td>NaN</td>\n",
       "      <td>12.000000</td>\n",
       "      <td>NaN</td>\n",
       "      <td>2.000000</td>\n",
       "      <td>1.000000</td>\n",
       "      <td>29562.000000</td>\n",
       "      <td>21.000000</td>\n",
       "    </tr>\n",
       "    <tr>\n",
       "      <th>25%</th>\n",
       "      <td>NaN</td>\n",
       "      <td>24.000000</td>\n",
       "      <td>NaN</td>\n",
       "      <td>14.000000</td>\n",
       "      <td>NaN</td>\n",
       "      <td>3.000000</td>\n",
       "      <td>3.000000</td>\n",
       "      <td>44058.750000</td>\n",
       "      <td>66.000000</td>\n",
       "    </tr>\n",
       "    <tr>\n",
       "      <th>50%</th>\n",
       "      <td>NaN</td>\n",
       "      <td>26.000000</td>\n",
       "      <td>NaN</td>\n",
       "      <td>16.000000</td>\n",
       "      <td>NaN</td>\n",
       "      <td>3.000000</td>\n",
       "      <td>3.000000</td>\n",
       "      <td>50596.500000</td>\n",
       "      <td>94.000000</td>\n",
       "    </tr>\n",
       "    <tr>\n",
       "      <th>75%</th>\n",
       "      <td>NaN</td>\n",
       "      <td>33.000000</td>\n",
       "      <td>NaN</td>\n",
       "      <td>16.000000</td>\n",
       "      <td>NaN</td>\n",
       "      <td>4.000000</td>\n",
       "      <td>4.000000</td>\n",
       "      <td>58668.000000</td>\n",
       "      <td>114.750000</td>\n",
       "    </tr>\n",
       "    <tr>\n",
       "      <th>max</th>\n",
       "      <td>NaN</td>\n",
       "      <td>50.000000</td>\n",
       "      <td>NaN</td>\n",
       "      <td>21.000000</td>\n",
       "      <td>NaN</td>\n",
       "      <td>7.000000</td>\n",
       "      <td>5.000000</td>\n",
       "      <td>104581.000000</td>\n",
       "      <td>360.000000</td>\n",
       "    </tr>\n",
       "  </tbody>\n",
       "</table>\n",
       "</div>"
      ],
      "text/plain": [
       "       Product         Age Gender   Education MaritalStatus       Usage  \\\n",
       "count      180  180.000000    180  180.000000           180  180.000000   \n",
       "unique       3         NaN      2         NaN             2         NaN   \n",
       "top      KP281         NaN   Male         NaN     Partnered         NaN   \n",
       "freq        80         NaN    104         NaN           107         NaN   \n",
       "mean       NaN   28.788889    NaN   15.572222           NaN    3.455556   \n",
       "std        NaN    6.943498    NaN    1.617055           NaN    1.084797   \n",
       "min        NaN   18.000000    NaN   12.000000           NaN    2.000000   \n",
       "25%        NaN   24.000000    NaN   14.000000           NaN    3.000000   \n",
       "50%        NaN   26.000000    NaN   16.000000           NaN    3.000000   \n",
       "75%        NaN   33.000000    NaN   16.000000           NaN    4.000000   \n",
       "max        NaN   50.000000    NaN   21.000000           NaN    7.000000   \n",
       "\n",
       "           Fitness         Income       Miles  \n",
       "count   180.000000     180.000000  180.000000  \n",
       "unique         NaN            NaN         NaN  \n",
       "top            NaN            NaN         NaN  \n",
       "freq           NaN            NaN         NaN  \n",
       "mean      3.311111   53719.577778  103.194444  \n",
       "std       0.958869   16506.684226   51.863605  \n",
       "min       1.000000   29562.000000   21.000000  \n",
       "25%       3.000000   44058.750000   66.000000  \n",
       "50%       3.000000   50596.500000   94.000000  \n",
       "75%       4.000000   58668.000000  114.750000  \n",
       "max       5.000000  104581.000000  360.000000  "
      ]
     },
     "execution_count": 78,
     "metadata": {},
     "output_type": "execute_result"
    }
   ],
   "source": [
    "df.describe(include=\"all\")\n"
   ]
  },
  {
   "cell_type": "raw",
   "id": "27f632e5-0323-4819-a727-1fc0976fc6f1",
   "metadata": {},
   "source": [
    "As per above table,\n",
    "    - We need to cater to 3 different products, as also given in the product portfolio.\n",
    "    - The age demography we will be dealing with is between 18 to 50 years.\n",
    "    - The income range given in the dataset is $ 29562 to $ 104581\n"
   ]
  },
  {
   "cell_type": "code",
   "execution_count": 79,
   "id": "6123dc82-a213-43d6-bee9-a048ba6b8f3e",
   "metadata": {
    "tags": []
   },
   "outputs": [
    {
     "data": {
      "text/plain": [
       "103.19444444444444"
      ]
     },
     "execution_count": 79,
     "metadata": {},
     "output_type": "execute_result"
    }
   ],
   "source": [
    "# just to retrive any value from above result\n",
    "df.describe(include=\"all\").loc[\"mean\", \"Miles\"]"
   ]
  },
  {
   "cell_type": "code",
   "execution_count": 80,
   "id": "73fc6640-c0c8-4243-87ce-8087c8099344",
   "metadata": {
    "tags": []
   },
   "outputs": [],
   "source": [
    "# Categorization of users based on Income:\n",
    "\n",
    "b = [29000, 44058, 58668, 104581]\n",
    "l = [\"Low\", \"Medium\", \"High\"]\n",
    "df[\"Income_cat\"] = pd.cut(df[\"Income\"], bins=b, labels=l)"
   ]
  },
  {
   "cell_type": "code",
   "execution_count": 81,
   "id": "c2810c7c-0922-4cfd-b65c-ad2bea258515",
   "metadata": {
    "tags": []
   },
   "outputs": [],
   "source": [
    "# Categorization of users based on Age:\n",
    "\n",
    "b = [17, 25, 35, 51]\n",
    "l = [\"17-25\", \"25-35\", \"35-51\"]\n",
    "df[\"Age_bins\"] = pd.cut(df[\"Age\"], bins=b, labels=l)"
   ]
  },
  {
   "cell_type": "code",
   "execution_count": 82,
   "id": "b87021f9-ce47-4e1c-9f40-68994f0594d9",
   "metadata": {
    "tags": []
   },
   "outputs": [],
   "source": [
    "# Categorization of users based on Miles:\n",
    "\n",
    "b = [-1, 80, 110, 400]\n",
    "l = [\"<80\", \"80-110\", \"110+\"]\n",
    "df[\"Miles_bins\"] = pd.cut(df[\"Miles\"], bins=b, labels=l)"
   ]
  },
  {
   "cell_type": "code",
   "execution_count": 83,
   "id": "44a2b742-899a-4ddd-90af-7ffb7cd774b6",
   "metadata": {
    "tags": []
   },
   "outputs": [],
   "source": [
    "# Categorization of users based on Education:\n",
    "\n",
    "b = [11, 17, 21]\n",
    "l = [\"UnderGrad\", \"PostGrad\"]\n",
    "df[\"Edu_cat\"] = pd.cut(df[\"Education\"], bins=b, labels=l)"
   ]
  },
  {
   "cell_type": "code",
   "execution_count": null,
   "id": "8e52b416-bad2-46fe-90b6-1aa6c53263c5",
   "metadata": {
    "tags": []
   },
   "outputs": [],
   "source": []
  },
  {
   "cell_type": "code",
   "execution_count": null,
   "id": "5810352f-e20e-49c6-a8cf-469abd70f477",
   "metadata": {},
   "outputs": [],
   "source": []
  },
  {
   "cell_type": "markdown",
   "id": "78625a60-d371-466f-83ae-83e7b11cf026",
   "metadata": {},
   "source": [
    "# Non-Graphical Analysis"
   ]
  },
  {
   "cell_type": "code",
   "execution_count": 85,
   "id": "b5678ee9-2bdf-4c75-8989-4ad37253a37c",
   "metadata": {
    "tags": []
   },
   "outputs": [
    {
     "data": {
      "text/html": [
       "<div>\n",
       "<style scoped>\n",
       "    .dataframe tbody tr th:only-of-type {\n",
       "        vertical-align: middle;\n",
       "    }\n",
       "\n",
       "    .dataframe tbody tr th {\n",
       "        vertical-align: top;\n",
       "    }\n",
       "\n",
       "    .dataframe thead th {\n",
       "        text-align: right;\n",
       "    }\n",
       "</style>\n",
       "<table border=\"1\" class=\"dataframe\">\n",
       "  <thead>\n",
       "    <tr style=\"text-align: right;\">\n",
       "      <th></th>\n",
       "      <th>Product</th>\n",
       "      <th>Age</th>\n",
       "      <th>Gender</th>\n",
       "      <th>Education</th>\n",
       "      <th>MaritalStatus</th>\n",
       "      <th>Usage</th>\n",
       "      <th>Fitness</th>\n",
       "      <th>Income</th>\n",
       "      <th>Miles</th>\n",
       "      <th>Income_cat</th>\n",
       "      <th>Age_bins</th>\n",
       "      <th>Miles_bins</th>\n",
       "      <th>Edu_cat</th>\n",
       "    </tr>\n",
       "  </thead>\n",
       "  <tbody>\n",
       "  </tbody>\n",
       "</table>\n",
       "</div>"
      ],
      "text/plain": [
       "Empty DataFrame\n",
       "Columns: [Product, Age, Gender, Education, MaritalStatus, Usage, Fitness, Income, Miles, Income_cat, Age_bins, Miles_bins, Edu_cat]\n",
       "Index: []"
      ]
     },
     "execution_count": 85,
     "metadata": {},
     "output_type": "execute_result"
    }
   ],
   "source": [
    "# There are no duplicate values in df\n",
    "df[df.duplicated()==True]"
   ]
  },
  {
   "cell_type": "markdown",
   "id": "a24ad3c5-832a-45e9-ae8f-d9468fefb6bf",
   "metadata": {},
   "source": [
    "## Value counts for some key categorical variables"
   ]
  },
  {
   "cell_type": "code",
   "execution_count": 86,
   "id": "15d00941-d489-48b8-8a03-be41a4dc93c8",
   "metadata": {
    "tags": []
   },
   "outputs": [
    {
     "data": {
      "text/plain": [
       "(array(['High', 'Low', 'Medium'], dtype=object),\n",
       " array([45, 45, 90], dtype=int64))"
      ]
     },
     "execution_count": 86,
     "metadata": {},
     "output_type": "execute_result"
    }
   ],
   "source": [
    " np.unique(df[\"Income_cat\"], return_counts=True)"
   ]
  },
  {
   "cell_type": "raw",
   "id": "a711dfd3-6828-485b-9e41-a7dd733cee7a",
   "metadata": {},
   "source": [
    "- as we can notice there are 90 users in Medium income bracket and 45 each in Low, High bracket"
   ]
  },
  {
   "cell_type": "code",
   "execution_count": 87,
   "id": "6bd19dbf-9b7b-4fad-a4f3-3f3fa8830742",
   "metadata": {
    "tags": []
   },
   "outputs": [
    {
     "data": {
      "text/plain": [
       "(array(['KP281', 'KP481', 'KP781'], dtype=object),\n",
       " array([80, 60, 40], dtype=int64))"
      ]
     },
     "execution_count": 87,
     "metadata": {},
     "output_type": "execute_result"
    }
   ],
   "source": [
    "np.unique(df[\"Product\"], return_counts=True)"
   ]
  },
  {
   "cell_type": "raw",
   "id": "5c0f157f-05cb-44db-809b-fc52b777a960",
   "metadata": {
    "tags": []
   },
   "source": [
    "- product: KP281 which is an entry level treadmill dominates the product portfolio"
   ]
  },
  {
   "cell_type": "code",
   "execution_count": 88,
   "id": "afad9670-5b84-45d9-912a-f651ea43d5ac",
   "metadata": {
    "tags": []
   },
   "outputs": [
    {
     "data": {
      "text/plain": [
       "Male      104\n",
       "Female     76\n",
       "Name: Gender, dtype: int64"
      ]
     },
     "execution_count": 88,
     "metadata": {},
     "output_type": "execute_result"
    }
   ],
   "source": [
    "df[\"Gender\"].value_counts()"
   ]
  },
  {
   "cell_type": "code",
   "execution_count": 89,
   "id": "34f9e99d-80fa-494c-8be2-d49929f525ad",
   "metadata": {
    "tags": []
   },
   "outputs": [
    {
     "data": {
      "text/plain": [
       "Partnered    107\n",
       "Single        73\n",
       "Name: MaritalStatus, dtype: int64"
      ]
     },
     "execution_count": 89,
     "metadata": {},
     "output_type": "execute_result"
    }
   ],
   "source": [
    "df[\"MaritalStatus\"].value_counts()"
   ]
  },
  {
   "cell_type": "code",
   "execution_count": 90,
   "id": "420f5384-a9f6-49b5-b87a-76d443593e3d",
   "metadata": {
    "tags": []
   },
   "outputs": [
    {
     "data": {
      "text/plain": [
       "3    97\n",
       "5    31\n",
       "2    26\n",
       "4    24\n",
       "1     2\n",
       "Name: Fitness, dtype: int64"
      ]
     },
     "execution_count": 90,
     "metadata": {},
     "output_type": "execute_result"
    }
   ],
   "source": [
    "df[\"Fitness\"].value_counts()"
   ]
  },
  {
   "cell_type": "code",
   "execution_count": 91,
   "id": "a6e408c7-f0ef-47c5-a3c8-03c2555c2518",
   "metadata": {},
   "outputs": [
    {
     "data": {
      "text/plain": [
       "80-110    66\n",
       "<80       60\n",
       "110+      54\n",
       "Name: Miles_bins, dtype: int64"
      ]
     },
     "execution_count": 91,
     "metadata": {},
     "output_type": "execute_result"
    }
   ],
   "source": [
    "df[\"Miles_bins\"].value_counts()"
   ]
  },
  {
   "cell_type": "code",
   "execution_count": 92,
   "id": "886365d8-0e90-4081-82c5-d35506b44628",
   "metadata": {},
   "outputs": [
    {
     "data": {
      "text/plain": [
       "17-25    79\n",
       "25-35    73\n",
       "35-51    28\n",
       "Name: Age_bins, dtype: int64"
      ]
     },
     "execution_count": 92,
     "metadata": {},
     "output_type": "execute_result"
    }
   ],
   "source": [
    "df[\"Age_bins\"].value_counts()"
   ]
  },
  {
   "cell_type": "raw",
   "id": "8e8971d9-075b-4088-8e9c-3e89a50eb0bc",
   "metadata": {},
   "source": [
    "- so there are very few people from 35-51 age bracket"
   ]
  },
  {
   "cell_type": "code",
   "execution_count": 94,
   "id": "86790fd4-ab2c-45e6-a446-5b0abf1cee49",
   "metadata": {
    "tags": []
   },
   "outputs": [
    {
     "data": {
      "text/plain": [
       "UnderGrad    153\n",
       "PostGrad      27\n",
       "Name: Edu_cat, dtype: int64"
      ]
     },
     "execution_count": 94,
     "metadata": {},
     "output_type": "execute_result"
    }
   ],
   "source": [
    "df[\"Edu_cat\"].value_counts()"
   ]
  },
  {
   "cell_type": "raw",
   "id": "d6ec7706-5dbc-4f8a-a840-fcdc90e0051f",
   "metadata": {},
   "source": [
    "- there are very few PostGrad compared to UnderGrad"
   ]
  },
  {
   "cell_type": "code",
   "execution_count": null,
   "id": "9be9f256-b900-4bdb-b401-965e19da8d30",
   "metadata": {},
   "outputs": [],
   "source": []
  },
  {
   "cell_type": "code",
   "execution_count": 95,
   "id": "2d83aaeb-d28b-4505-afd6-2b7e4d5ef913",
   "metadata": {
    "tags": []
   },
   "outputs": [],
   "source": [
    "# Storing the price of each product in a different column \n",
    "df[\"Product_Price\"] = np.where(df2[\"Product\"]=='KP281', 1500, 0)\n",
    "df[\"Product_Price\"] = np.where(df2[\"Product\"]=='KP481', 1750, df[\"Product_Price\"])\n",
    "df[\"Product_Price\"] = np.where(df2[\"Product\"]=='KP781', 2500, df[\"Product_Price\"])"
   ]
  },
  {
   "cell_type": "code",
   "execution_count": 96,
   "id": "6b4e8839-4edc-4ef3-8ed7-4cc97f1a8958",
   "metadata": {
    "tags": []
   },
   "outputs": [
    {
     "data": {
      "text/html": [
       "<div>\n",
       "<style scoped>\n",
       "    .dataframe tbody tr th:only-of-type {\n",
       "        vertical-align: middle;\n",
       "    }\n",
       "\n",
       "    .dataframe tbody tr th {\n",
       "        vertical-align: top;\n",
       "    }\n",
       "\n",
       "    .dataframe thead th {\n",
       "        text-align: right;\n",
       "    }\n",
       "</style>\n",
       "<table border=\"1\" class=\"dataframe\">\n",
       "  <thead>\n",
       "    <tr style=\"text-align: right;\">\n",
       "      <th></th>\n",
       "      <th>Product</th>\n",
       "      <th>Age</th>\n",
       "      <th>Gender</th>\n",
       "      <th>Education</th>\n",
       "      <th>MaritalStatus</th>\n",
       "      <th>Usage</th>\n",
       "      <th>Fitness</th>\n",
       "      <th>Income</th>\n",
       "      <th>Miles</th>\n",
       "      <th>Income_cat</th>\n",
       "      <th>Age_bins</th>\n",
       "      <th>Miles_bins</th>\n",
       "      <th>Edu_cat</th>\n",
       "      <th>Product_Price</th>\n",
       "    </tr>\n",
       "  </thead>\n",
       "  <tbody>\n",
       "    <tr>\n",
       "      <th>109</th>\n",
       "      <td>KP481</td>\n",
       "      <td>26</td>\n",
       "      <td>Female</td>\n",
       "      <td>16</td>\n",
       "      <td>Single</td>\n",
       "      <td>4</td>\n",
       "      <td>4</td>\n",
       "      <td>50028</td>\n",
       "      <td>127</td>\n",
       "      <td>Medium</td>\n",
       "      <td>25-35</td>\n",
       "      <td>110+</td>\n",
       "      <td>UnderGrad</td>\n",
       "      <td>1750</td>\n",
       "    </tr>\n",
       "    <tr>\n",
       "      <th>133</th>\n",
       "      <td>KP481</td>\n",
       "      <td>38</td>\n",
       "      <td>Female</td>\n",
       "      <td>16</td>\n",
       "      <td>Partnered</td>\n",
       "      <td>4</td>\n",
       "      <td>3</td>\n",
       "      <td>62535</td>\n",
       "      <td>85</td>\n",
       "      <td>High</td>\n",
       "      <td>35-51</td>\n",
       "      <td>80-110</td>\n",
       "      <td>UnderGrad</td>\n",
       "      <td>1750</td>\n",
       "    </tr>\n",
       "    <tr>\n",
       "      <th>83</th>\n",
       "      <td>KP481</td>\n",
       "      <td>20</td>\n",
       "      <td>Male</td>\n",
       "      <td>14</td>\n",
       "      <td>Single</td>\n",
       "      <td>3</td>\n",
       "      <td>3</td>\n",
       "      <td>38658</td>\n",
       "      <td>95</td>\n",
       "      <td>Low</td>\n",
       "      <td>17-25</td>\n",
       "      <td>80-110</td>\n",
       "      <td>UnderGrad</td>\n",
       "      <td>1750</td>\n",
       "    </tr>\n",
       "    <tr>\n",
       "      <th>148</th>\n",
       "      <td>KP781</td>\n",
       "      <td>24</td>\n",
       "      <td>Female</td>\n",
       "      <td>16</td>\n",
       "      <td>Single</td>\n",
       "      <td>5</td>\n",
       "      <td>5</td>\n",
       "      <td>52291</td>\n",
       "      <td>200</td>\n",
       "      <td>Medium</td>\n",
       "      <td>17-25</td>\n",
       "      <td>110+</td>\n",
       "      <td>UnderGrad</td>\n",
       "      <td>2500</td>\n",
       "    </tr>\n",
       "    <tr>\n",
       "      <th>21</th>\n",
       "      <td>KP281</td>\n",
       "      <td>23</td>\n",
       "      <td>Male</td>\n",
       "      <td>16</td>\n",
       "      <td>Single</td>\n",
       "      <td>4</td>\n",
       "      <td>3</td>\n",
       "      <td>40932</td>\n",
       "      <td>94</td>\n",
       "      <td>Low</td>\n",
       "      <td>17-25</td>\n",
       "      <td>80-110</td>\n",
       "      <td>UnderGrad</td>\n",
       "      <td>1500</td>\n",
       "    </tr>\n",
       "    <tr>\n",
       "      <th>15</th>\n",
       "      <td>KP281</td>\n",
       "      <td>23</td>\n",
       "      <td>Male</td>\n",
       "      <td>16</td>\n",
       "      <td>Partnered</td>\n",
       "      <td>3</td>\n",
       "      <td>3</td>\n",
       "      <td>40932</td>\n",
       "      <td>75</td>\n",
       "      <td>Low</td>\n",
       "      <td>17-25</td>\n",
       "      <td>&lt;80</td>\n",
       "      <td>UnderGrad</td>\n",
       "      <td>1500</td>\n",
       "    </tr>\n",
       "    <tr>\n",
       "      <th>153</th>\n",
       "      <td>KP781</td>\n",
       "      <td>25</td>\n",
       "      <td>Male</td>\n",
       "      <td>18</td>\n",
       "      <td>Partnered</td>\n",
       "      <td>4</td>\n",
       "      <td>3</td>\n",
       "      <td>64741</td>\n",
       "      <td>100</td>\n",
       "      <td>High</td>\n",
       "      <td>17-25</td>\n",
       "      <td>80-110</td>\n",
       "      <td>PostGrad</td>\n",
       "      <td>2500</td>\n",
       "    </tr>\n",
       "    <tr>\n",
       "      <th>17</th>\n",
       "      <td>KP281</td>\n",
       "      <td>23</td>\n",
       "      <td>Male</td>\n",
       "      <td>16</td>\n",
       "      <td>Partnered</td>\n",
       "      <td>4</td>\n",
       "      <td>3</td>\n",
       "      <td>39795</td>\n",
       "      <td>94</td>\n",
       "      <td>Low</td>\n",
       "      <td>17-25</td>\n",
       "      <td>80-110</td>\n",
       "      <td>UnderGrad</td>\n",
       "      <td>1500</td>\n",
       "    </tr>\n",
       "    <tr>\n",
       "      <th>75</th>\n",
       "      <td>KP281</td>\n",
       "      <td>43</td>\n",
       "      <td>Male</td>\n",
       "      <td>16</td>\n",
       "      <td>Partnered</td>\n",
       "      <td>3</td>\n",
       "      <td>3</td>\n",
       "      <td>53439</td>\n",
       "      <td>66</td>\n",
       "      <td>Medium</td>\n",
       "      <td>35-51</td>\n",
       "      <td>&lt;80</td>\n",
       "      <td>UnderGrad</td>\n",
       "      <td>1500</td>\n",
       "    </tr>\n",
       "    <tr>\n",
       "      <th>97</th>\n",
       "      <td>KP481</td>\n",
       "      <td>25</td>\n",
       "      <td>Female</td>\n",
       "      <td>14</td>\n",
       "      <td>Partnered</td>\n",
       "      <td>2</td>\n",
       "      <td>3</td>\n",
       "      <td>45480</td>\n",
       "      <td>85</td>\n",
       "      <td>Medium</td>\n",
       "      <td>17-25</td>\n",
       "      <td>80-110</td>\n",
       "      <td>UnderGrad</td>\n",
       "      <td>1750</td>\n",
       "    </tr>\n",
       "  </tbody>\n",
       "</table>\n",
       "</div>"
      ],
      "text/plain": [
       "    Product  Age  Gender  Education MaritalStatus  Usage  Fitness  Income  \\\n",
       "109   KP481   26  Female         16        Single      4        4   50028   \n",
       "133   KP481   38  Female         16     Partnered      4        3   62535   \n",
       "83    KP481   20    Male         14        Single      3        3   38658   \n",
       "148   KP781   24  Female         16        Single      5        5   52291   \n",
       "21    KP281   23    Male         16        Single      4        3   40932   \n",
       "15    KP281   23    Male         16     Partnered      3        3   40932   \n",
       "153   KP781   25    Male         18     Partnered      4        3   64741   \n",
       "17    KP281   23    Male         16     Partnered      4        3   39795   \n",
       "75    KP281   43    Male         16     Partnered      3        3   53439   \n",
       "97    KP481   25  Female         14     Partnered      2        3   45480   \n",
       "\n",
       "     Miles Income_cat Age_bins Miles_bins    Edu_cat  Product_Price  \n",
       "109    127     Medium    25-35       110+  UnderGrad           1750  \n",
       "133     85       High    35-51     80-110  UnderGrad           1750  \n",
       "83      95        Low    17-25     80-110  UnderGrad           1750  \n",
       "148    200     Medium    17-25       110+  UnderGrad           2500  \n",
       "21      94        Low    17-25     80-110  UnderGrad           1500  \n",
       "15      75        Low    17-25        <80  UnderGrad           1500  \n",
       "153    100       High    17-25     80-110   PostGrad           2500  \n",
       "17      94        Low    17-25     80-110  UnderGrad           1500  \n",
       "75      66     Medium    35-51        <80  UnderGrad           1500  \n",
       "97      85     Medium    17-25     80-110  UnderGrad           1750  "
      ]
     },
     "execution_count": 96,
     "metadata": {},
     "output_type": "execute_result"
    }
   ],
   "source": [
    "# as you can see, we created new column: \"Product_Price\"\n",
    "df.sample(10)"
   ]
  },
  {
   "cell_type": "markdown",
   "id": "48464a5a-7f6b-4818-8f97-92dc1ad55f4c",
   "metadata": {
    "tags": []
   },
   "source": [
    "## Creating the Crosstabs of relevant columns"
   ]
  },
  {
   "cell_type": "code",
   "execution_count": 97,
   "id": "ccf9fd15-dba6-4fae-9363-339f5785a3e9",
   "metadata": {
    "tags": []
   },
   "outputs": [
    {
     "data": {
      "text/html": [
       "<div>\n",
       "<style scoped>\n",
       "    .dataframe tbody tr th:only-of-type {\n",
       "        vertical-align: middle;\n",
       "    }\n",
       "\n",
       "    .dataframe tbody tr th {\n",
       "        vertical-align: top;\n",
       "    }\n",
       "\n",
       "    .dataframe thead th {\n",
       "        text-align: right;\n",
       "    }\n",
       "</style>\n",
       "<table border=\"1\" class=\"dataframe\">\n",
       "  <thead>\n",
       "    <tr style=\"text-align: right;\">\n",
       "      <th>Income_cat</th>\n",
       "      <th>Low</th>\n",
       "      <th>Medium</th>\n",
       "      <th>High</th>\n",
       "      <th>Total</th>\n",
       "    </tr>\n",
       "    <tr>\n",
       "      <th>Product</th>\n",
       "      <th></th>\n",
       "      <th></th>\n",
       "      <th></th>\n",
       "      <th></th>\n",
       "    </tr>\n",
       "  </thead>\n",
       "  <tbody>\n",
       "    <tr>\n",
       "      <th>KP281</th>\n",
       "      <td>30</td>\n",
       "      <td>43</td>\n",
       "      <td>7</td>\n",
       "      <td>80</td>\n",
       "    </tr>\n",
       "    <tr>\n",
       "      <th>KP481</th>\n",
       "      <td>15</td>\n",
       "      <td>36</td>\n",
       "      <td>9</td>\n",
       "      <td>60</td>\n",
       "    </tr>\n",
       "    <tr>\n",
       "      <th>KP781</th>\n",
       "      <td>0</td>\n",
       "      <td>11</td>\n",
       "      <td>29</td>\n",
       "      <td>40</td>\n",
       "    </tr>\n",
       "    <tr>\n",
       "      <th>Total</th>\n",
       "      <td>45</td>\n",
       "      <td>90</td>\n",
       "      <td>45</td>\n",
       "      <td>180</td>\n",
       "    </tr>\n",
       "  </tbody>\n",
       "</table>\n",
       "</div>"
      ],
      "text/plain": [
       "Income_cat  Low  Medium  High  Total\n",
       "Product                             \n",
       "KP281        30      43     7     80\n",
       "KP481        15      36     9     60\n",
       "KP781         0      11    29     40\n",
       "Total        45      90    45    180"
      ]
     },
     "execution_count": 97,
     "metadata": {},
     "output_type": "execute_result"
    }
   ],
   "source": [
    "PI = pd.crosstab(df[\"Product\"], df[\"Income_cat\"], margins = True, margins_name = \"Total\")\n",
    "PI"
   ]
  },
  {
   "cell_type": "code",
   "execution_count": 98,
   "id": "46c6044a-fa2c-4db7-ac0a-72a3e587611d",
   "metadata": {
    "tags": []
   },
   "outputs": [
    {
     "data": {
      "text/plain": [
       "Income_cat\n",
       "Low        45\n",
       "Medium     90\n",
       "High       45\n",
       "Total     180\n",
       "Name: Total, dtype: int64"
      ]
     },
     "execution_count": 98,
     "metadata": {},
     "output_type": "execute_result"
    }
   ],
   "source": [
    "# fetching total of all the columns from above table\n",
    "pd.crosstab(df[\"Product\"], df[\"Income_cat\"], margins = True, margins_name = \"Total\").loc[\"Total\", :]"
   ]
  },
  {
   "cell_type": "code",
   "execution_count": null,
   "id": "bccf8eb8-a728-46a5-8ea3-c68d8e7205a3",
   "metadata": {},
   "outputs": [],
   "source": []
  },
  {
   "cell_type": "code",
   "execution_count": 99,
   "id": "881a8245-06cf-401a-a7a7-babc6d16171c",
   "metadata": {
    "tags": []
   },
   "outputs": [
    {
     "data": {
      "text/html": [
       "<div>\n",
       "<style scoped>\n",
       "    .dataframe tbody tr th:only-of-type {\n",
       "        vertical-align: middle;\n",
       "    }\n",
       "\n",
       "    .dataframe tbody tr th {\n",
       "        vertical-align: top;\n",
       "    }\n",
       "\n",
       "    .dataframe thead th {\n",
       "        text-align: right;\n",
       "    }\n",
       "</style>\n",
       "<table border=\"1\" class=\"dataframe\">\n",
       "  <thead>\n",
       "    <tr style=\"text-align: right;\">\n",
       "      <th>Gender</th>\n",
       "      <th>Female</th>\n",
       "      <th>Male</th>\n",
       "      <th>Total</th>\n",
       "    </tr>\n",
       "    <tr>\n",
       "      <th>Product</th>\n",
       "      <th></th>\n",
       "      <th></th>\n",
       "      <th></th>\n",
       "    </tr>\n",
       "  </thead>\n",
       "  <tbody>\n",
       "    <tr>\n",
       "      <th>KP281</th>\n",
       "      <td>40</td>\n",
       "      <td>40</td>\n",
       "      <td>80</td>\n",
       "    </tr>\n",
       "    <tr>\n",
       "      <th>KP481</th>\n",
       "      <td>29</td>\n",
       "      <td>31</td>\n",
       "      <td>60</td>\n",
       "    </tr>\n",
       "    <tr>\n",
       "      <th>KP781</th>\n",
       "      <td>7</td>\n",
       "      <td>33</td>\n",
       "      <td>40</td>\n",
       "    </tr>\n",
       "    <tr>\n",
       "      <th>Total</th>\n",
       "      <td>76</td>\n",
       "      <td>104</td>\n",
       "      <td>180</td>\n",
       "    </tr>\n",
       "  </tbody>\n",
       "</table>\n",
       "</div>"
      ],
      "text/plain": [
       "Gender   Female  Male  Total\n",
       "Product                     \n",
       "KP281        40    40     80\n",
       "KP481        29    31     60\n",
       "KP781         7    33     40\n",
       "Total        76   104    180"
      ]
     },
     "execution_count": 99,
     "metadata": {},
     "output_type": "execute_result"
    }
   ],
   "source": [
    "PG = pd.crosstab(df[\"Product\"], df[\"Gender\"], margins = True, margins_name = \"Total\")\n",
    "PG"
   ]
  },
  {
   "cell_type": "code",
   "execution_count": 100,
   "id": "24d15f57-b9df-452b-8235-39af8ce38cf4",
   "metadata": {
    "tags": []
   },
   "outputs": [
    {
     "data": {
      "text/html": [
       "<div>\n",
       "<style scoped>\n",
       "    .dataframe tbody tr th:only-of-type {\n",
       "        vertical-align: middle;\n",
       "    }\n",
       "\n",
       "    .dataframe tbody tr th {\n",
       "        vertical-align: top;\n",
       "    }\n",
       "\n",
       "    .dataframe thead th {\n",
       "        text-align: right;\n",
       "    }\n",
       "</style>\n",
       "<table border=\"1\" class=\"dataframe\">\n",
       "  <thead>\n",
       "    <tr style=\"text-align: right;\">\n",
       "      <th>MaritalStatus</th>\n",
       "      <th>Partnered</th>\n",
       "      <th>Single</th>\n",
       "      <th>Total</th>\n",
       "    </tr>\n",
       "    <tr>\n",
       "      <th>Product</th>\n",
       "      <th></th>\n",
       "      <th></th>\n",
       "      <th></th>\n",
       "    </tr>\n",
       "  </thead>\n",
       "  <tbody>\n",
       "    <tr>\n",
       "      <th>KP281</th>\n",
       "      <td>48</td>\n",
       "      <td>32</td>\n",
       "      <td>80</td>\n",
       "    </tr>\n",
       "    <tr>\n",
       "      <th>KP481</th>\n",
       "      <td>36</td>\n",
       "      <td>24</td>\n",
       "      <td>60</td>\n",
       "    </tr>\n",
       "    <tr>\n",
       "      <th>KP781</th>\n",
       "      <td>23</td>\n",
       "      <td>17</td>\n",
       "      <td>40</td>\n",
       "    </tr>\n",
       "    <tr>\n",
       "      <th>Total</th>\n",
       "      <td>107</td>\n",
       "      <td>73</td>\n",
       "      <td>180</td>\n",
       "    </tr>\n",
       "  </tbody>\n",
       "</table>\n",
       "</div>"
      ],
      "text/plain": [
       "MaritalStatus  Partnered  Single  Total\n",
       "Product                                \n",
       "KP281                 48      32     80\n",
       "KP481                 36      24     60\n",
       "KP781                 23      17     40\n",
       "Total                107      73    180"
      ]
     },
     "execution_count": 100,
     "metadata": {},
     "output_type": "execute_result"
    }
   ],
   "source": [
    "PM = pd.crosstab(df[\"Product\"], df[\"MaritalStatus\"], margins = True, margins_name = \"Total\")\n",
    "PM"
   ]
  },
  {
   "cell_type": "code",
   "execution_count": null,
   "id": "1d2fa46d-0ccb-4a87-aa02-04383c1050e3",
   "metadata": {},
   "outputs": [],
   "source": []
  },
  {
   "cell_type": "markdown",
   "id": "a6aee2af-3419-4b0c-8169-84b80a98e990",
   "metadata": {},
   "source": [
    "## Calculating probability"
   ]
  },
  {
   "cell_type": "code",
   "execution_count": 101,
   "id": "fd15d4d1-81b4-44a4-8651-5a0376ac5fe6",
   "metadata": {
    "tags": []
   },
   "outputs": [
    {
     "data": {
      "text/html": [
       "<div>\n",
       "<style scoped>\n",
       "    .dataframe tbody tr th:only-of-type {\n",
       "        vertical-align: middle;\n",
       "    }\n",
       "\n",
       "    .dataframe tbody tr th {\n",
       "        vertical-align: top;\n",
       "    }\n",
       "\n",
       "    .dataframe thead th {\n",
       "        text-align: right;\n",
       "    }\n",
       "</style>\n",
       "<table border=\"1\" class=\"dataframe\">\n",
       "  <thead>\n",
       "    <tr style=\"text-align: right;\">\n",
       "      <th>Income_cat</th>\n",
       "      <th>Low</th>\n",
       "      <th>Medium</th>\n",
       "      <th>High</th>\n",
       "      <th>Total</th>\n",
       "    </tr>\n",
       "    <tr>\n",
       "      <th>Product</th>\n",
       "      <th></th>\n",
       "      <th></th>\n",
       "      <th></th>\n",
       "      <th></th>\n",
       "    </tr>\n",
       "  </thead>\n",
       "  <tbody>\n",
       "    <tr>\n",
       "      <th>KP281</th>\n",
       "      <td>30</td>\n",
       "      <td>43</td>\n",
       "      <td>7</td>\n",
       "      <td>80</td>\n",
       "    </tr>\n",
       "    <tr>\n",
       "      <th>KP481</th>\n",
       "      <td>15</td>\n",
       "      <td>36</td>\n",
       "      <td>9</td>\n",
       "      <td>60</td>\n",
       "    </tr>\n",
       "    <tr>\n",
       "      <th>KP781</th>\n",
       "      <td>0</td>\n",
       "      <td>11</td>\n",
       "      <td>29</td>\n",
       "      <td>40</td>\n",
       "    </tr>\n",
       "    <tr>\n",
       "      <th>Total</th>\n",
       "      <td>45</td>\n",
       "      <td>90</td>\n",
       "      <td>45</td>\n",
       "      <td>180</td>\n",
       "    </tr>\n",
       "  </tbody>\n",
       "</table>\n",
       "</div>"
      ],
      "text/plain": [
       "Income_cat  Low  Medium  High  Total\n",
       "Product                             \n",
       "KP281        30      43     7     80\n",
       "KP481        15      36     9     60\n",
       "KP781         0      11    29     40\n",
       "Total        45      90    45    180"
      ]
     },
     "execution_count": 101,
     "metadata": {},
     "output_type": "execute_result"
    }
   ],
   "source": [
    "PI"
   ]
  },
  {
   "cell_type": "code",
   "execution_count": 102,
   "id": "4eac10c2-d16a-4432-9c98-893709511f75",
   "metadata": {
    "tags": []
   },
   "outputs": [
    {
     "name": "stdout",
     "output_type": "stream",
     "text": [
      "Share % of KP281: 44.44\n",
      "Share % of KP481: 33.33\n",
      "Share % of KP781: 22.22\n"
     ]
    }
   ],
   "source": [
    "# total share of products:\n",
    "p1 = (PI.loc[\"KP281\", \"Total\"])/(PI.loc[\"Total\", \"Total\"])\n",
    "p2 = (PI.loc[\"KP481\", \"Total\"])/(PI.loc[\"Total\", \"Total\"])\n",
    "p3 = (PI.loc[\"KP781\", \"Total\"])/(PI.loc[\"Total\", \"Total\"])\n",
    "\n",
    "print(f\"Share % of KP281: {round(p1*100,2)}\")\n",
    "print(f\"Share % of KP481: {round(p2*100,2)}\")\n",
    "print(f\"Share % of KP781: {round(p3*100,2)}\")"
   ]
  },
  {
   "cell_type": "raw",
   "id": "83bc94c1-69e2-4245-bfea-386e2a14dfce",
   "metadata": {},
   "source": [
    "So, KP281 has highest share of sales volume with 44.44%"
   ]
  },
  {
   "cell_type": "code",
   "execution_count": null,
   "id": "33156978-8254-441e-9722-cf9983517881",
   "metadata": {
    "tags": []
   },
   "outputs": [],
   "source": [
    "\n"
   ]
  },
  {
   "cell_type": "code",
   "execution_count": 103,
   "id": "133c0cf3-9770-4e9e-9bd3-0f2a4fc454ea",
   "metadata": {
    "tags": []
   },
   "outputs": [
    {
     "name": "stdout",
     "output_type": "stream",
     "text": [
      "PI_rows: Index(['KP281', 'KP481', 'KP781', 'Total'], dtype='object', name='Product')\n",
      "PI_cols: Index(['Low', 'Medium', 'High', 'Total'], dtype='object', name='Income_cat')\n"
     ]
    }
   ],
   "source": [
    "PI_rows = PI.index\n",
    "PI_cols  = PI.columns\n",
    "print(f\"PI_rows: {PI_rows}\")\n",
    "print(f\"PI_cols: {PI_cols}\")"
   ]
  },
  {
   "cell_type": "code",
   "execution_count": 104,
   "id": "5e9098d3-d59d-4d74-83bb-9e3b94f4a463",
   "metadata": {
    "tags": []
   },
   "outputs": [],
   "source": [
    "# probabilty of user buying respective products, \n",
    "# given that he/she is in Low/Medium/High income category:\n",
    "\n",
    "prob1 = []\n",
    "for r in PI_rows:\n",
    "    for c in PI_cols:\n",
    "        prob1.append(round((PI.loc[r,c]/PI.loc[\"Total\",c]),2))\n",
    "\n",
    "prob1 = np.array(prob1).reshape(4,4)"
   ]
  },
  {
   "cell_type": "code",
   "execution_count": 105,
   "id": "9b1306e3-7a3c-405c-a739-198910c1a5d1",
   "metadata": {
    "tags": []
   },
   "outputs": [
    {
     "data": {
      "text/html": [
       "<div>\n",
       "<style scoped>\n",
       "    .dataframe tbody tr th:only-of-type {\n",
       "        vertical-align: middle;\n",
       "    }\n",
       "\n",
       "    .dataframe tbody tr th {\n",
       "        vertical-align: top;\n",
       "    }\n",
       "\n",
       "    .dataframe thead th {\n",
       "        text-align: right;\n",
       "    }\n",
       "</style>\n",
       "<table border=\"1\" class=\"dataframe\">\n",
       "  <thead>\n",
       "    <tr style=\"text-align: right;\">\n",
       "      <th></th>\n",
       "      <th>given_Low</th>\n",
       "      <th>given_Medium</th>\n",
       "      <th>given_High</th>\n",
       "      <th>total_product_share</th>\n",
       "    </tr>\n",
       "    <tr>\n",
       "      <th>Product</th>\n",
       "      <th></th>\n",
       "      <th></th>\n",
       "      <th></th>\n",
       "      <th></th>\n",
       "    </tr>\n",
       "  </thead>\n",
       "  <tbody>\n",
       "    <tr>\n",
       "      <th>KP281</th>\n",
       "      <td>0.67</td>\n",
       "      <td>0.48</td>\n",
       "      <td>0.16</td>\n",
       "      <td>0.44</td>\n",
       "    </tr>\n",
       "    <tr>\n",
       "      <th>KP481</th>\n",
       "      <td>0.33</td>\n",
       "      <td>0.40</td>\n",
       "      <td>0.20</td>\n",
       "      <td>0.33</td>\n",
       "    </tr>\n",
       "    <tr>\n",
       "      <th>KP781</th>\n",
       "      <td>0.00</td>\n",
       "      <td>0.12</td>\n",
       "      <td>0.64</td>\n",
       "      <td>0.22</td>\n",
       "    </tr>\n",
       "    <tr>\n",
       "      <th>Total</th>\n",
       "      <td>1.00</td>\n",
       "      <td>1.00</td>\n",
       "      <td>1.00</td>\n",
       "      <td>1.00</td>\n",
       "    </tr>\n",
       "  </tbody>\n",
       "</table>\n",
       "</div>"
      ],
      "text/plain": [
       "         given_Low  given_Medium  given_High  total_product_share\n",
       "Product                                                          \n",
       "KP281         0.67          0.48        0.16                 0.44\n",
       "KP481         0.33          0.40        0.20                 0.33\n",
       "KP781         0.00          0.12        0.64                 0.22\n",
       "Total         1.00          1.00        1.00                 1.00"
      ]
     },
     "execution_count": 105,
     "metadata": {},
     "output_type": "execute_result"
    }
   ],
   "source": [
    "prob1 = pd.DataFrame(prob1)\n",
    "prob1.index = [PI_rows]\n",
    "prob1.columns = [\"given_Low\", \"given_Medium\", \"given_High\", \"total_product_share\"]\n",
    "prob1"
   ]
  },
  {
   "cell_type": "raw",
   "id": "d1c55558-c159-4282-85b5-001d28021f00",
   "metadata": {
    "tags": []
   },
   "source": [
    "As can be noticed from table above:\n",
    "    - Low income category user is very likely (67%) to buy KP281\n",
    "      and is not likely to buy KP781 at all\n",
    "    - Medium income category user is likely to buy KP281, KP481\n",
    "    - High income category user is very likely (64%) to buy KP781\n",
    "      "
   ]
  },
  {
   "cell_type": "code",
   "execution_count": 106,
   "id": "69841a90-1032-4ef0-81be-3cec0574cde2",
   "metadata": {
    "tags": []
   },
   "outputs": [
    {
     "data": {
      "text/html": [
       "<div>\n",
       "<style scoped>\n",
       "    .dataframe tbody tr th:only-of-type {\n",
       "        vertical-align: middle;\n",
       "    }\n",
       "\n",
       "    .dataframe tbody tr th {\n",
       "        vertical-align: top;\n",
       "    }\n",
       "\n",
       "    .dataframe thead th {\n",
       "        text-align: right;\n",
       "    }\n",
       "</style>\n",
       "<table border=\"1\" class=\"dataframe\">\n",
       "  <thead>\n",
       "    <tr style=\"text-align: right;\">\n",
       "      <th>Income_cat</th>\n",
       "      <th>Low</th>\n",
       "      <th>Medium</th>\n",
       "      <th>High</th>\n",
       "      <th>Total</th>\n",
       "    </tr>\n",
       "    <tr>\n",
       "      <th>Product</th>\n",
       "      <th></th>\n",
       "      <th></th>\n",
       "      <th></th>\n",
       "      <th></th>\n",
       "    </tr>\n",
       "  </thead>\n",
       "  <tbody>\n",
       "    <tr>\n",
       "      <th>KP281</th>\n",
       "      <td>0.666667</td>\n",
       "      <td>0.477778</td>\n",
       "      <td>0.155556</td>\n",
       "      <td>0.444444</td>\n",
       "    </tr>\n",
       "    <tr>\n",
       "      <th>KP481</th>\n",
       "      <td>0.333333</td>\n",
       "      <td>0.400000</td>\n",
       "      <td>0.200000</td>\n",
       "      <td>0.333333</td>\n",
       "    </tr>\n",
       "    <tr>\n",
       "      <th>KP781</th>\n",
       "      <td>0.000000</td>\n",
       "      <td>0.122222</td>\n",
       "      <td>0.644444</td>\n",
       "      <td>0.222222</td>\n",
       "    </tr>\n",
       "  </tbody>\n",
       "</table>\n",
       "</div>"
      ],
      "text/plain": [
       "Income_cat       Low    Medium      High     Total\n",
       "Product                                           \n",
       "KP281       0.666667  0.477778  0.155556  0.444444\n",
       "KP481       0.333333  0.400000  0.200000  0.333333\n",
       "KP781       0.000000  0.122222  0.644444  0.222222"
      ]
     },
     "execution_count": 106,
     "metadata": {},
     "output_type": "execute_result"
    }
   ],
   "source": [
    "# Finding conditional probabilities\n",
    "\n",
    "pd.crosstab(df[\"Product\"], df[\"Income_cat\"], margins = True, margins_name = \"Total\", normalize = \"columns\")\n",
    "# each element divided by summation of individual columns"
   ]
  },
  {
   "cell_type": "code",
   "execution_count": null,
   "id": "cb94dcaf-0cea-4fa4-a2b3-7fa084920c12",
   "metadata": {},
   "outputs": [],
   "source": []
  },
  {
   "cell_type": "code",
   "execution_count": 107,
   "id": "42d9ba7c-b41a-4647-9ffa-944999ba334f",
   "metadata": {
    "tags": []
   },
   "outputs": [
    {
     "data": {
      "text/plain": [
       "Index(['Product', 'Age', 'Gender', 'Education', 'MaritalStatus', 'Usage',\n",
       "       'Fitness', 'Income', 'Miles', 'Income_cat', 'Age_bins', 'Miles_bins',\n",
       "       'Edu_cat', 'Product_Price'],\n",
       "      dtype='object')"
      ]
     },
     "execution_count": 107,
     "metadata": {},
     "output_type": "execute_result"
    }
   ],
   "source": [
    "df_col = df.columns\n",
    "df_col"
   ]
  },
  {
   "cell_type": "code",
   "execution_count": 112,
   "id": "57a41645-dad2-44a0-b821-e2ebb6728840",
   "metadata": {
    "tags": []
   },
   "outputs": [],
   "source": [
    "df_col = df_col.drop([\"Product\", \"Age\", \"Education\", \"Income\", \"Miles\", \"Product_Price\"])"
   ]
  },
  {
   "cell_type": "code",
   "execution_count": 113,
   "id": "52e7b7ef-f4af-4d8a-90ff-e8d45e19c370",
   "metadata": {
    "tags": []
   },
   "outputs": [
    {
     "data": {
      "text/plain": [
       "Index(['Gender', 'MaritalStatus', 'Usage', 'Fitness', 'Income_cat', 'Age_bins',\n",
       "       'Miles_bins', 'Edu_cat'],\n",
       "      dtype='object')"
      ]
     },
     "execution_count": 113,
     "metadata": {},
     "output_type": "execute_result"
    }
   ],
   "source": [
    "df_col"
   ]
  },
  {
   "cell_type": "code",
   "execution_count": 117,
   "id": "6e16f2fd-5e23-4b49-90c6-45bcff7b57c5",
   "metadata": {
    "tags": []
   },
   "outputs": [
    {
     "name": "stdout",
     "output_type": "stream",
     "text": [
      "Table for Product vs Gender\n"
     ]
    },
    {
     "data": {
      "text/html": [
       "<div>\n",
       "<style scoped>\n",
       "    .dataframe tbody tr th:only-of-type {\n",
       "        vertical-align: middle;\n",
       "    }\n",
       "\n",
       "    .dataframe tbody tr th {\n",
       "        vertical-align: top;\n",
       "    }\n",
       "\n",
       "    .dataframe thead th {\n",
       "        text-align: right;\n",
       "    }\n",
       "</style>\n",
       "<table border=\"1\" class=\"dataframe\">\n",
       "  <thead>\n",
       "    <tr style=\"text-align: right;\">\n",
       "      <th>Gender</th>\n",
       "      <th>Female</th>\n",
       "      <th>Male</th>\n",
       "    </tr>\n",
       "    <tr>\n",
       "      <th>Product</th>\n",
       "      <th></th>\n",
       "      <th></th>\n",
       "    </tr>\n",
       "  </thead>\n",
       "  <tbody>\n",
       "    <tr>\n",
       "      <th>KP281</th>\n",
       "      <td>0.526316</td>\n",
       "      <td>0.384615</td>\n",
       "    </tr>\n",
       "    <tr>\n",
       "      <th>KP481</th>\n",
       "      <td>0.381579</td>\n",
       "      <td>0.298077</td>\n",
       "    </tr>\n",
       "    <tr>\n",
       "      <th>KP781</th>\n",
       "      <td>0.092105</td>\n",
       "      <td>0.317308</td>\n",
       "    </tr>\n",
       "  </tbody>\n",
       "</table>\n",
       "</div>"
      ],
      "text/plain": [
       "Gender     Female      Male\n",
       "Product                    \n",
       "KP281    0.526316  0.384615\n",
       "KP481    0.381579  0.298077\n",
       "KP781    0.092105  0.317308"
      ]
     },
     "metadata": {},
     "output_type": "display_data"
    },
    {
     "name": "stdout",
     "output_type": "stream",
     "text": [
      "\n",
      "\n",
      "Table for Product vs MaritalStatus\n"
     ]
    },
    {
     "data": {
      "text/html": [
       "<div>\n",
       "<style scoped>\n",
       "    .dataframe tbody tr th:only-of-type {\n",
       "        vertical-align: middle;\n",
       "    }\n",
       "\n",
       "    .dataframe tbody tr th {\n",
       "        vertical-align: top;\n",
       "    }\n",
       "\n",
       "    .dataframe thead th {\n",
       "        text-align: right;\n",
       "    }\n",
       "</style>\n",
       "<table border=\"1\" class=\"dataframe\">\n",
       "  <thead>\n",
       "    <tr style=\"text-align: right;\">\n",
       "      <th>MaritalStatus</th>\n",
       "      <th>Partnered</th>\n",
       "      <th>Single</th>\n",
       "    </tr>\n",
       "    <tr>\n",
       "      <th>Product</th>\n",
       "      <th></th>\n",
       "      <th></th>\n",
       "    </tr>\n",
       "  </thead>\n",
       "  <tbody>\n",
       "    <tr>\n",
       "      <th>KP281</th>\n",
       "      <td>0.448598</td>\n",
       "      <td>0.438356</td>\n",
       "    </tr>\n",
       "    <tr>\n",
       "      <th>KP481</th>\n",
       "      <td>0.336449</td>\n",
       "      <td>0.328767</td>\n",
       "    </tr>\n",
       "    <tr>\n",
       "      <th>KP781</th>\n",
       "      <td>0.214953</td>\n",
       "      <td>0.232877</td>\n",
       "    </tr>\n",
       "  </tbody>\n",
       "</table>\n",
       "</div>"
      ],
      "text/plain": [
       "MaritalStatus  Partnered    Single\n",
       "Product                           \n",
       "KP281           0.448598  0.438356\n",
       "KP481           0.336449  0.328767\n",
       "KP781           0.214953  0.232877"
      ]
     },
     "metadata": {},
     "output_type": "display_data"
    },
    {
     "name": "stdout",
     "output_type": "stream",
     "text": [
      "\n",
      "\n",
      "Table for Product vs Usage\n"
     ]
    },
    {
     "data": {
      "text/html": [
       "<div>\n",
       "<style scoped>\n",
       "    .dataframe tbody tr th:only-of-type {\n",
       "        vertical-align: middle;\n",
       "    }\n",
       "\n",
       "    .dataframe tbody tr th {\n",
       "        vertical-align: top;\n",
       "    }\n",
       "\n",
       "    .dataframe thead th {\n",
       "        text-align: right;\n",
       "    }\n",
       "</style>\n",
       "<table border=\"1\" class=\"dataframe\">\n",
       "  <thead>\n",
       "    <tr style=\"text-align: right;\">\n",
       "      <th>Usage</th>\n",
       "      <th>2</th>\n",
       "      <th>3</th>\n",
       "      <th>4</th>\n",
       "      <th>5</th>\n",
       "      <th>6</th>\n",
       "      <th>7</th>\n",
       "    </tr>\n",
       "    <tr>\n",
       "      <th>Product</th>\n",
       "      <th></th>\n",
       "      <th></th>\n",
       "      <th></th>\n",
       "      <th></th>\n",
       "      <th></th>\n",
       "      <th></th>\n",
       "    </tr>\n",
       "  </thead>\n",
       "  <tbody>\n",
       "    <tr>\n",
       "      <th>KP281</th>\n",
       "      <td>0.575758</td>\n",
       "      <td>0.536232</td>\n",
       "      <td>0.423077</td>\n",
       "      <td>0.117647</td>\n",
       "      <td>0.0</td>\n",
       "      <td>0.0</td>\n",
       "    </tr>\n",
       "    <tr>\n",
       "      <th>KP481</th>\n",
       "      <td>0.424242</td>\n",
       "      <td>0.449275</td>\n",
       "      <td>0.230769</td>\n",
       "      <td>0.176471</td>\n",
       "      <td>0.0</td>\n",
       "      <td>0.0</td>\n",
       "    </tr>\n",
       "    <tr>\n",
       "      <th>KP781</th>\n",
       "      <td>0.000000</td>\n",
       "      <td>0.014493</td>\n",
       "      <td>0.346154</td>\n",
       "      <td>0.705882</td>\n",
       "      <td>1.0</td>\n",
       "      <td>1.0</td>\n",
       "    </tr>\n",
       "  </tbody>\n",
       "</table>\n",
       "</div>"
      ],
      "text/plain": [
       "Usage           2         3         4         5    6    7\n",
       "Product                                                  \n",
       "KP281    0.575758  0.536232  0.423077  0.117647  0.0  0.0\n",
       "KP481    0.424242  0.449275  0.230769  0.176471  0.0  0.0\n",
       "KP781    0.000000  0.014493  0.346154  0.705882  1.0  1.0"
      ]
     },
     "metadata": {},
     "output_type": "display_data"
    },
    {
     "name": "stdout",
     "output_type": "stream",
     "text": [
      "\n",
      "\n",
      "Table for Product vs Fitness\n"
     ]
    },
    {
     "data": {
      "text/html": [
       "<div>\n",
       "<style scoped>\n",
       "    .dataframe tbody tr th:only-of-type {\n",
       "        vertical-align: middle;\n",
       "    }\n",
       "\n",
       "    .dataframe tbody tr th {\n",
       "        vertical-align: top;\n",
       "    }\n",
       "\n",
       "    .dataframe thead th {\n",
       "        text-align: right;\n",
       "    }\n",
       "</style>\n",
       "<table border=\"1\" class=\"dataframe\">\n",
       "  <thead>\n",
       "    <tr style=\"text-align: right;\">\n",
       "      <th>Fitness</th>\n",
       "      <th>1</th>\n",
       "      <th>2</th>\n",
       "      <th>3</th>\n",
       "      <th>4</th>\n",
       "      <th>5</th>\n",
       "    </tr>\n",
       "    <tr>\n",
       "      <th>Product</th>\n",
       "      <th></th>\n",
       "      <th></th>\n",
       "      <th></th>\n",
       "      <th></th>\n",
       "      <th></th>\n",
       "    </tr>\n",
       "  </thead>\n",
       "  <tbody>\n",
       "    <tr>\n",
       "      <th>KP281</th>\n",
       "      <td>0.5</td>\n",
       "      <td>0.538462</td>\n",
       "      <td>0.556701</td>\n",
       "      <td>0.375000</td>\n",
       "      <td>0.064516</td>\n",
       "    </tr>\n",
       "    <tr>\n",
       "      <th>KP481</th>\n",
       "      <td>0.5</td>\n",
       "      <td>0.461538</td>\n",
       "      <td>0.402062</td>\n",
       "      <td>0.333333</td>\n",
       "      <td>0.000000</td>\n",
       "    </tr>\n",
       "    <tr>\n",
       "      <th>KP781</th>\n",
       "      <td>0.0</td>\n",
       "      <td>0.000000</td>\n",
       "      <td>0.041237</td>\n",
       "      <td>0.291667</td>\n",
       "      <td>0.935484</td>\n",
       "    </tr>\n",
       "  </tbody>\n",
       "</table>\n",
       "</div>"
      ],
      "text/plain": [
       "Fitness    1         2         3         4         5\n",
       "Product                                             \n",
       "KP281    0.5  0.538462  0.556701  0.375000  0.064516\n",
       "KP481    0.5  0.461538  0.402062  0.333333  0.000000\n",
       "KP781    0.0  0.000000  0.041237  0.291667  0.935484"
      ]
     },
     "metadata": {},
     "output_type": "display_data"
    },
    {
     "name": "stdout",
     "output_type": "stream",
     "text": [
      "\n",
      "\n",
      "Table for Product vs Income_cat\n"
     ]
    },
    {
     "data": {
      "text/html": [
       "<div>\n",
       "<style scoped>\n",
       "    .dataframe tbody tr th:only-of-type {\n",
       "        vertical-align: middle;\n",
       "    }\n",
       "\n",
       "    .dataframe tbody tr th {\n",
       "        vertical-align: top;\n",
       "    }\n",
       "\n",
       "    .dataframe thead th {\n",
       "        text-align: right;\n",
       "    }\n",
       "</style>\n",
       "<table border=\"1\" class=\"dataframe\">\n",
       "  <thead>\n",
       "    <tr style=\"text-align: right;\">\n",
       "      <th>Income_cat</th>\n",
       "      <th>Low</th>\n",
       "      <th>Medium</th>\n",
       "      <th>High</th>\n",
       "    </tr>\n",
       "    <tr>\n",
       "      <th>Product</th>\n",
       "      <th></th>\n",
       "      <th></th>\n",
       "      <th></th>\n",
       "    </tr>\n",
       "  </thead>\n",
       "  <tbody>\n",
       "    <tr>\n",
       "      <th>KP281</th>\n",
       "      <td>0.666667</td>\n",
       "      <td>0.477778</td>\n",
       "      <td>0.155556</td>\n",
       "    </tr>\n",
       "    <tr>\n",
       "      <th>KP481</th>\n",
       "      <td>0.333333</td>\n",
       "      <td>0.400000</td>\n",
       "      <td>0.200000</td>\n",
       "    </tr>\n",
       "    <tr>\n",
       "      <th>KP781</th>\n",
       "      <td>0.000000</td>\n",
       "      <td>0.122222</td>\n",
       "      <td>0.644444</td>\n",
       "    </tr>\n",
       "  </tbody>\n",
       "</table>\n",
       "</div>"
      ],
      "text/plain": [
       "Income_cat       Low    Medium      High\n",
       "Product                                 \n",
       "KP281       0.666667  0.477778  0.155556\n",
       "KP481       0.333333  0.400000  0.200000\n",
       "KP781       0.000000  0.122222  0.644444"
      ]
     },
     "metadata": {},
     "output_type": "display_data"
    },
    {
     "name": "stdout",
     "output_type": "stream",
     "text": [
      "\n",
      "\n",
      "Table for Product vs Age_bins\n"
     ]
    },
    {
     "data": {
      "text/html": [
       "<div>\n",
       "<style scoped>\n",
       "    .dataframe tbody tr th:only-of-type {\n",
       "        vertical-align: middle;\n",
       "    }\n",
       "\n",
       "    .dataframe tbody tr th {\n",
       "        vertical-align: top;\n",
       "    }\n",
       "\n",
       "    .dataframe thead th {\n",
       "        text-align: right;\n",
       "    }\n",
       "</style>\n",
       "<table border=\"1\" class=\"dataframe\">\n",
       "  <thead>\n",
       "    <tr style=\"text-align: right;\">\n",
       "      <th>Age_bins</th>\n",
       "      <th>17-25</th>\n",
       "      <th>25-35</th>\n",
       "      <th>35-51</th>\n",
       "    </tr>\n",
       "    <tr>\n",
       "      <th>Product</th>\n",
       "      <th></th>\n",
       "      <th></th>\n",
       "      <th></th>\n",
       "    </tr>\n",
       "  </thead>\n",
       "  <tbody>\n",
       "    <tr>\n",
       "      <th>KP281</th>\n",
       "      <td>0.43038</td>\n",
       "      <td>0.438356</td>\n",
       "      <td>0.500000</td>\n",
       "    </tr>\n",
       "    <tr>\n",
       "      <th>KP481</th>\n",
       "      <td>0.35443</td>\n",
       "      <td>0.328767</td>\n",
       "      <td>0.285714</td>\n",
       "    </tr>\n",
       "    <tr>\n",
       "      <th>KP781</th>\n",
       "      <td>0.21519</td>\n",
       "      <td>0.232877</td>\n",
       "      <td>0.214286</td>\n",
       "    </tr>\n",
       "  </tbody>\n",
       "</table>\n",
       "</div>"
      ],
      "text/plain": [
       "Age_bins    17-25     25-35     35-51\n",
       "Product                              \n",
       "KP281     0.43038  0.438356  0.500000\n",
       "KP481     0.35443  0.328767  0.285714\n",
       "KP781     0.21519  0.232877  0.214286"
      ]
     },
     "metadata": {},
     "output_type": "display_data"
    },
    {
     "name": "stdout",
     "output_type": "stream",
     "text": [
      "\n",
      "\n",
      "Table for Product vs Miles_bins\n"
     ]
    },
    {
     "data": {
      "text/html": [
       "<div>\n",
       "<style scoped>\n",
       "    .dataframe tbody tr th:only-of-type {\n",
       "        vertical-align: middle;\n",
       "    }\n",
       "\n",
       "    .dataframe tbody tr th {\n",
       "        vertical-align: top;\n",
       "    }\n",
       "\n",
       "    .dataframe thead th {\n",
       "        text-align: right;\n",
       "    }\n",
       "</style>\n",
       "<table border=\"1\" class=\"dataframe\">\n",
       "  <thead>\n",
       "    <tr style=\"text-align: right;\">\n",
       "      <th>Miles_bins</th>\n",
       "      <th>&lt;80</th>\n",
       "      <th>80-110</th>\n",
       "      <th>110+</th>\n",
       "    </tr>\n",
       "    <tr>\n",
       "      <th>Product</th>\n",
       "      <th></th>\n",
       "      <th></th>\n",
       "      <th></th>\n",
       "    </tr>\n",
       "  </thead>\n",
       "  <tbody>\n",
       "    <tr>\n",
       "      <th>KP281</th>\n",
       "      <td>0.633333</td>\n",
       "      <td>0.409091</td>\n",
       "      <td>0.277778</td>\n",
       "    </tr>\n",
       "    <tr>\n",
       "      <th>KP481</th>\n",
       "      <td>0.350000</td>\n",
       "      <td>0.469697</td>\n",
       "      <td>0.148148</td>\n",
       "    </tr>\n",
       "    <tr>\n",
       "      <th>KP781</th>\n",
       "      <td>0.016667</td>\n",
       "      <td>0.121212</td>\n",
       "      <td>0.574074</td>\n",
       "    </tr>\n",
       "  </tbody>\n",
       "</table>\n",
       "</div>"
      ],
      "text/plain": [
       "Miles_bins       <80    80-110      110+\n",
       "Product                                 \n",
       "KP281       0.633333  0.409091  0.277778\n",
       "KP481       0.350000  0.469697  0.148148\n",
       "KP781       0.016667  0.121212  0.574074"
      ]
     },
     "metadata": {},
     "output_type": "display_data"
    },
    {
     "name": "stdout",
     "output_type": "stream",
     "text": [
      "\n",
      "\n",
      "Table for Product vs Edu_cat\n"
     ]
    },
    {
     "data": {
      "text/html": [
       "<div>\n",
       "<style scoped>\n",
       "    .dataframe tbody tr th:only-of-type {\n",
       "        vertical-align: middle;\n",
       "    }\n",
       "\n",
       "    .dataframe tbody tr th {\n",
       "        vertical-align: top;\n",
       "    }\n",
       "\n",
       "    .dataframe thead th {\n",
       "        text-align: right;\n",
       "    }\n",
       "</style>\n",
       "<table border=\"1\" class=\"dataframe\">\n",
       "  <thead>\n",
       "    <tr style=\"text-align: right;\">\n",
       "      <th>Edu_cat</th>\n",
       "      <th>UnderGrad</th>\n",
       "      <th>PostGrad</th>\n",
       "    </tr>\n",
       "    <tr>\n",
       "      <th>Product</th>\n",
       "      <th></th>\n",
       "      <th></th>\n",
       "    </tr>\n",
       "  </thead>\n",
       "  <tbody>\n",
       "    <tr>\n",
       "      <th>KP281</th>\n",
       "      <td>0.509804</td>\n",
       "      <td>0.074074</td>\n",
       "    </tr>\n",
       "    <tr>\n",
       "      <th>KP481</th>\n",
       "      <td>0.379085</td>\n",
       "      <td>0.074074</td>\n",
       "    </tr>\n",
       "    <tr>\n",
       "      <th>KP781</th>\n",
       "      <td>0.111111</td>\n",
       "      <td>0.851852</td>\n",
       "    </tr>\n",
       "  </tbody>\n",
       "</table>\n",
       "</div>"
      ],
      "text/plain": [
       "Edu_cat  UnderGrad  PostGrad\n",
       "Product                     \n",
       "KP281     0.509804  0.074074\n",
       "KP481     0.379085  0.074074\n",
       "KP781     0.111111  0.851852"
      ]
     },
     "metadata": {},
     "output_type": "display_data"
    },
    {
     "name": "stdout",
     "output_type": "stream",
     "text": [
      "\n",
      "\n"
     ]
    }
   ],
   "source": [
    "# finding conditional probabilities for other relevant variables\n",
    "from IPython.display import display\n",
    "for i in df_col:\n",
    "    print(f\"Table for Product vs {str(i)}\")\n",
    "    display(pd.crosstab(df[\"Product\"], df[i], normalize = \"columns\"))\n",
    "    print(\"\\n\")"
   ]
  },
  {
   "cell_type": "code",
   "execution_count": null,
   "id": "527f548a-7fb8-442c-bc88-0e58cc17b7b1",
   "metadata": {},
   "outputs": [],
   "source": []
  },
  {
   "cell_type": "markdown",
   "id": "483a99bc-2a2d-488e-9d5e-32006a806147",
   "metadata": {},
   "source": [
    "### Key Insights"
   ]
  },
  {
   "cell_type": "raw",
   "id": "a6240592-bcbc-4ace-b13c-9da1e2a97623",
   "metadata": {},
   "source": [
    "Brief interpretation of above probabilities is given below:\n",
    "- So, KP281 has highest share of sales volume with 44.44%, followed by KP481 (33.33%), KP781 (22.22%)\n",
    "\n",
    "- From Product vs Income_cat table,\n",
    "    - Low income category user is very likely (67%) to buy KP281 and is not likely to buy KP781 at all\n",
    "    - Medium income category user is likely to buy KP281, KP481\n",
    "    - High income category user is very likely (64%) to buy KP781\n",
    "    \n",
    "- P(KP781 | Female) = 0.092 --> Female are very less likely to buy KP781, we need to test if it is because\n",
    "  Females has lower income than Males...? (Ans: females not preferring KP781 has more to it than just income)\n",
    "  Male category doesnt seem to have significant preference for a product (based on Gender)\n",
    "\n",
    "- MaritalStatus doesnt affect the product choice\n",
    "\n",
    "- P(KP781 | Usage>5) is higher --> People with usage between 5-7 seems to prefer advanced model KP781\n",
    "\n",
    "- P(KP281 | Miles_bins<80) = 0.633 --> People who are planning to run lesser miles per week (<80) as \n",
    "  strong inclination towards buying KP281\n",
    "  \n",
    "- PostGrad seems to prefer KP781, \n",
    "  we need to test if it is because PostGrad has higher income than UnderGrad...? \n",
    "  (Ans: Yes, PostGrad preferring KP781 is mostly because of their higher income)\n",
    "  \n",
    "- We need to check with statistical significance, if Product choice depends on Age...\n",
    "  (Ans: age doesnt affect product choice)\n",
    "\n"
   ]
  },
  {
   "cell_type": "code",
   "execution_count": null,
   "id": "a05b0716-130f-4fbe-8c21-cd2e73f56040",
   "metadata": {},
   "outputs": [],
   "source": []
  },
  {
   "cell_type": "code",
   "execution_count": 139,
   "id": "4e677484-ede3-4e0a-a542-5971d4439226",
   "metadata": {
    "tags": []
   },
   "outputs": [
    {
     "data": {
      "text/html": [
       "<div>\n",
       "<style scoped>\n",
       "    .dataframe tbody tr th:only-of-type {\n",
       "        vertical-align: middle;\n",
       "    }\n",
       "\n",
       "    .dataframe tbody tr th {\n",
       "        vertical-align: top;\n",
       "    }\n",
       "\n",
       "    .dataframe thead th {\n",
       "        text-align: right;\n",
       "    }\n",
       "</style>\n",
       "<table border=\"1\" class=\"dataframe\">\n",
       "  <thead>\n",
       "    <tr style=\"text-align: right;\">\n",
       "      <th>Income_cat</th>\n",
       "      <th>Low</th>\n",
       "      <th>Medium</th>\n",
       "      <th>High</th>\n",
       "      <th>Total</th>\n",
       "    </tr>\n",
       "    <tr>\n",
       "      <th>Product</th>\n",
       "      <th></th>\n",
       "      <th></th>\n",
       "      <th></th>\n",
       "      <th></th>\n",
       "    </tr>\n",
       "  </thead>\n",
       "  <tbody>\n",
       "    <tr>\n",
       "      <th>KP281</th>\n",
       "      <td>30</td>\n",
       "      <td>43</td>\n",
       "      <td>7</td>\n",
       "      <td>80</td>\n",
       "    </tr>\n",
       "    <tr>\n",
       "      <th>KP481</th>\n",
       "      <td>15</td>\n",
       "      <td>36</td>\n",
       "      <td>9</td>\n",
       "      <td>60</td>\n",
       "    </tr>\n",
       "    <tr>\n",
       "      <th>KP781</th>\n",
       "      <td>0</td>\n",
       "      <td>11</td>\n",
       "      <td>29</td>\n",
       "      <td>40</td>\n",
       "    </tr>\n",
       "    <tr>\n",
       "      <th>Total</th>\n",
       "      <td>45</td>\n",
       "      <td>90</td>\n",
       "      <td>45</td>\n",
       "      <td>180</td>\n",
       "    </tr>\n",
       "  </tbody>\n",
       "</table>\n",
       "</div>"
      ],
      "text/plain": [
       "Income_cat  Low  Medium  High  Total\n",
       "Product                             \n",
       "KP281        30      43     7     80\n",
       "KP481        15      36     9     60\n",
       "KP781         0      11    29     40\n",
       "Total        45      90    45    180"
      ]
     },
     "execution_count": 139,
     "metadata": {},
     "output_type": "execute_result"
    }
   ],
   "source": [
    "PI"
   ]
  },
  {
   "cell_type": "code",
   "execution_count": 140,
   "id": "c174fe69-4cfd-476c-b650-f6a58082ce9e",
   "metadata": {
    "tags": []
   },
   "outputs": [
    {
     "data": {
      "text/html": [
       "<div>\n",
       "<style scoped>\n",
       "    .dataframe tbody tr th:only-of-type {\n",
       "        vertical-align: middle;\n",
       "    }\n",
       "\n",
       "    .dataframe tbody tr th {\n",
       "        vertical-align: top;\n",
       "    }\n",
       "\n",
       "    .dataframe thead th {\n",
       "        text-align: right;\n",
       "    }\n",
       "</style>\n",
       "<table border=\"1\" class=\"dataframe\">\n",
       "  <thead>\n",
       "    <tr style=\"text-align: right;\">\n",
       "      <th>Product</th>\n",
       "      <th>KP281</th>\n",
       "      <th>KP481</th>\n",
       "      <th>KP781</th>\n",
       "    </tr>\n",
       "    <tr>\n",
       "      <th>Income_cat</th>\n",
       "      <th></th>\n",
       "      <th></th>\n",
       "      <th></th>\n",
       "    </tr>\n",
       "  </thead>\n",
       "  <tbody>\n",
       "    <tr>\n",
       "      <th>Low</th>\n",
       "      <td>45000</td>\n",
       "      <td>26250</td>\n",
       "      <td>0</td>\n",
       "    </tr>\n",
       "    <tr>\n",
       "      <th>Medium</th>\n",
       "      <td>64500</td>\n",
       "      <td>63000</td>\n",
       "      <td>27500</td>\n",
       "    </tr>\n",
       "    <tr>\n",
       "      <th>High</th>\n",
       "      <td>10500</td>\n",
       "      <td>15750</td>\n",
       "      <td>72500</td>\n",
       "    </tr>\n",
       "    <tr>\n",
       "      <th>Total</th>\n",
       "      <td>120000</td>\n",
       "      <td>105000</td>\n",
       "      <td>100000</td>\n",
       "    </tr>\n",
       "  </tbody>\n",
       "</table>\n",
       "</div>"
      ],
      "text/plain": [
       "Product      KP281   KP481   KP781\n",
       "Income_cat                        \n",
       "Low          45000   26250       0\n",
       "Medium       64500   63000   27500\n",
       "High         10500   15750   72500\n",
       "Total       120000  105000  100000"
      ]
     },
     "execution_count": 140,
     "metadata": {},
     "output_type": "execute_result"
    }
   ],
   "source": [
    "PI_revenue = PI.loc[\"KP281\":\"KP781\", :].T*[1500, 1750, 2500]\n",
    "PI_revenue"
   ]
  },
  {
   "cell_type": "raw",
   "id": "b420840f-21c9-4285-9a59-1c4c77d035ba",
   "metadata": {},
   "source": [
    "From above table:\n",
    "    - KP281 has slightly higher revenue share compared to other 2 products\n",
    "    - KP481, KP781 has almost equal revenue share\n",
    "    - 72.5% revenue for KP781 which is the top model, comes from High Income group"
   ]
  },
  {
   "cell_type": "code",
   "execution_count": 141,
   "id": "240db9a7-ce1d-4d9f-98ca-9217228ca861",
   "metadata": {
    "tags": []
   },
   "outputs": [
    {
     "data": {
      "text/plain": [
       "Income_cat\n",
       "Low        71250\n",
       "Medium    155000\n",
       "High       98750\n",
       "Total     325000\n",
       "dtype: int64"
      ]
     },
     "execution_count": 141,
     "metadata": {},
     "output_type": "execute_result"
    }
   ],
   "source": [
    "PI_revenue.sum(axis=1)"
   ]
  },
  {
   "cell_type": "raw",
   "id": "f71fe3e3-875c-4e99-8a2c-701b0e8d694f",
   "metadata": {},
   "source": [
    "Above values signifies that:\n",
    "    - Medium Income group has almost 50% of total revenue share (considering all 3 products)\n",
    "    - Surprisingly, High Income category has higher total revenue share than Low Income cat"
   ]
  },
  {
   "cell_type": "code",
   "execution_count": null,
   "id": "8d3b4f6f-56ad-40d9-9116-2b47ef99af5d",
   "metadata": {},
   "outputs": [],
   "source": []
  },
  {
   "cell_type": "code",
   "execution_count": null,
   "id": "189b3572-b91c-4cb9-ad14-cf4145531957",
   "metadata": {},
   "outputs": [],
   "source": []
  },
  {
   "cell_type": "markdown",
   "id": "89a1a3f8-e195-4844-b30c-1c4c5888a363",
   "metadata": {},
   "source": [
    "## Hypothesis Testing:"
   ]
  },
  {
   "cell_type": "code",
   "execution_count": 122,
   "id": "d7d82c26-8a6b-41e6-872e-007523832743",
   "metadata": {
    "tags": []
   },
   "outputs": [
    {
     "data": {
      "text/html": [
       "<div>\n",
       "<style scoped>\n",
       "    .dataframe tbody tr th:only-of-type {\n",
       "        vertical-align: middle;\n",
       "    }\n",
       "\n",
       "    .dataframe tbody tr th {\n",
       "        vertical-align: top;\n",
       "    }\n",
       "\n",
       "    .dataframe thead th {\n",
       "        text-align: right;\n",
       "    }\n",
       "</style>\n",
       "<table border=\"1\" class=\"dataframe\">\n",
       "  <thead>\n",
       "    <tr style=\"text-align: right;\">\n",
       "      <th>Income_cat</th>\n",
       "      <th>Low</th>\n",
       "      <th>Medium</th>\n",
       "      <th>High</th>\n",
       "    </tr>\n",
       "    <tr>\n",
       "      <th>Product</th>\n",
       "      <th></th>\n",
       "      <th></th>\n",
       "      <th></th>\n",
       "    </tr>\n",
       "  </thead>\n",
       "  <tbody>\n",
       "    <tr>\n",
       "      <th>KP281</th>\n",
       "      <td>30</td>\n",
       "      <td>43</td>\n",
       "      <td>7</td>\n",
       "    </tr>\n",
       "    <tr>\n",
       "      <th>KP481</th>\n",
       "      <td>15</td>\n",
       "      <td>36</td>\n",
       "      <td>9</td>\n",
       "    </tr>\n",
       "    <tr>\n",
       "      <th>KP781</th>\n",
       "      <td>0</td>\n",
       "      <td>11</td>\n",
       "      <td>29</td>\n",
       "    </tr>\n",
       "  </tbody>\n",
       "</table>\n",
       "</div>"
      ],
      "text/plain": [
       "Income_cat  Low  Medium  High\n",
       "Product                      \n",
       "KP281        30      43     7\n",
       "KP481        15      36     9\n",
       "KP781         0      11    29"
      ]
     },
     "execution_count": 122,
     "metadata": {},
     "output_type": "execute_result"
    }
   ],
   "source": [
    "prod_income = pd.crosstab(df[\"Product\"], df[\"Income_cat\"])\n",
    "prod_income"
   ]
  },
  {
   "cell_type": "code",
   "execution_count": 124,
   "id": "b616963c-df66-416c-8711-246e825fcab5",
   "metadata": {
    "tags": []
   },
   "outputs": [
    {
     "name": "stdout",
     "output_type": "stream",
     "text": [
      "chi_stat :  67.425\n",
      "p_value :  7.931095358542334e-14\n",
      "dof :  4\n",
      "expected_freq \n",
      ": [[20. 40. 20.]\n",
      " [15. 30. 15.]\n",
      " [10. 20. 10.]]\n",
      "Interpretation : Reject Ho\n"
     ]
    }
   ],
   "source": [
    "from scipy.stats import chi2 # Distribution (cdf etc.)\n",
    "from scipy.stats import chisquare # Statistical test (chistat, pvalue)\n",
    "from scipy.stats import chi2_contingency # Categorical Vs Categorical\n",
    "\n",
    "# using Chi Square Test: Test of Independence\n",
    "# Ho : Income doesnt affect Product Choice ( independant)\n",
    "# Ha : Income affects Product Choice ( dependant)\n",
    "\n",
    "\n",
    "chi_stat,p_value,dof,expected_freq=chi2_contingency(prod_income)\n",
    "print(\"chi_stat : \",chi_stat)\n",
    "print(\"p_value : \",p_value)\n",
    "print(\"dof : \",dof)\n",
    "print(\"expected_freq \\n:\",expected_freq)\n",
    "alpha = 0.05\n",
    "if p_value <alpha :\n",
    "    print(\"Interpretation : Reject Ho\")\n",
    "else:\n",
    "    print(\"Interpretation : Fail to Reject Ho\")"
   ]
  },
  {
   "cell_type": "raw",
   "id": "0a02e9df-c887-42c1-ac73-4338a6bd0838",
   "metadata": {},
   "source": [
    "- So we can say with statistical significance that Income strongly affects product choice"
   ]
  },
  {
   "cell_type": "code",
   "execution_count": null,
   "id": "320ec05a-a4c4-49ba-bd76-4ed601888a55",
   "metadata": {},
   "outputs": [],
   "source": []
  },
  {
   "cell_type": "code",
   "execution_count": 120,
   "id": "5e06fddf-2957-4750-8d29-dd614b970f99",
   "metadata": {
    "tags": []
   },
   "outputs": [
    {
     "data": {
      "text/html": [
       "<div>\n",
       "<style scoped>\n",
       "    .dataframe tbody tr th:only-of-type {\n",
       "        vertical-align: middle;\n",
       "    }\n",
       "\n",
       "    .dataframe tbody tr th {\n",
       "        vertical-align: top;\n",
       "    }\n",
       "\n",
       "    .dataframe thead th {\n",
       "        text-align: right;\n",
       "    }\n",
       "</style>\n",
       "<table border=\"1\" class=\"dataframe\">\n",
       "  <thead>\n",
       "    <tr style=\"text-align: right;\">\n",
       "      <th>Gender</th>\n",
       "      <th>Female</th>\n",
       "      <th>Male</th>\n",
       "    </tr>\n",
       "    <tr>\n",
       "      <th>Income_cat</th>\n",
       "      <th></th>\n",
       "      <th></th>\n",
       "    </tr>\n",
       "  </thead>\n",
       "  <tbody>\n",
       "    <tr>\n",
       "      <th>Low</th>\n",
       "      <td>22</td>\n",
       "      <td>23</td>\n",
       "    </tr>\n",
       "    <tr>\n",
       "      <th>Medium</th>\n",
       "      <td>41</td>\n",
       "      <td>49</td>\n",
       "    </tr>\n",
       "    <tr>\n",
       "      <th>High</th>\n",
       "      <td>13</td>\n",
       "      <td>32</td>\n",
       "    </tr>\n",
       "  </tbody>\n",
       "</table>\n",
       "</div>"
      ],
      "text/plain": [
       "Gender      Female  Male\n",
       "Income_cat              \n",
       "Low             22    23\n",
       "Medium          41    49\n",
       "High            13    32"
      ]
     },
     "execution_count": 120,
     "metadata": {},
     "output_type": "execute_result"
    }
   ],
   "source": [
    "income_gender= pd.crosstab(df[\"Income_cat\"], df[\"Gender\"])\n",
    "income_gender"
   ]
  },
  {
   "cell_type": "code",
   "execution_count": 125,
   "id": "b8b1182a-3ceb-48f5-925c-584e5d900984",
   "metadata": {
    "tags": []
   },
   "outputs": [
    {
     "name": "stdout",
     "output_type": "stream",
     "text": [
      "chi_stat :  4.509109311740891\n",
      "p_value :  0.10492025895473746\n",
      "dof :  2\n",
      "expected_freq \n",
      ": [[19. 26.]\n",
      " [38. 52.]\n",
      " [19. 26.]]\n",
      "Interpretation : Fail to Reject Ho\n"
     ]
    }
   ],
   "source": [
    "\n",
    "# using Chi Square Test: Test of Independence\n",
    "# Ho : Gender Doesnt affect Income (independant)\n",
    "# Ha : Gender affects Income (dependant)\n",
    "\n",
    "\n",
    "chi_stat,p_value,dof,expected_freq=chi2_contingency(income_gender)\n",
    "print(\"chi_stat : \",chi_stat)\n",
    "print(\"p_value : \",p_value)\n",
    "print(\"dof : \",dof)\n",
    "print(\"expected_freq \\n:\",expected_freq)\n",
    "alpha = 0.05\n",
    "if p_value <alpha :\n",
    "    print(\"Interpretation : Reject Ho\")\n",
    "else:\n",
    "    print(\"Interpretation : Fail to Reject Ho\")"
   ]
  },
  {
   "cell_type": "raw",
   "id": "52cea5e1-48a2-4a09-b4e0-b9f36ef7f55c",
   "metadata": {},
   "source": [
    "- So, Gender and Income are independent --> females not preferring KP781 has more to it than just income"
   ]
  },
  {
   "cell_type": "code",
   "execution_count": null,
   "id": "d42e585e-2cf8-4558-a9d3-d1ec1aa0656e",
   "metadata": {},
   "outputs": [],
   "source": []
  },
  {
   "cell_type": "code",
   "execution_count": 129,
   "id": "a21a78cc-9c61-4209-9d52-17b9887a4c11",
   "metadata": {
    "tags": []
   },
   "outputs": [
    {
     "data": {
      "text/html": [
       "<div>\n",
       "<style scoped>\n",
       "    .dataframe tbody tr th:only-of-type {\n",
       "        vertical-align: middle;\n",
       "    }\n",
       "\n",
       "    .dataframe tbody tr th {\n",
       "        vertical-align: top;\n",
       "    }\n",
       "\n",
       "    .dataframe thead th {\n",
       "        text-align: right;\n",
       "    }\n",
       "</style>\n",
       "<table border=\"1\" class=\"dataframe\">\n",
       "  <thead>\n",
       "    <tr style=\"text-align: right;\">\n",
       "      <th>Edu_cat</th>\n",
       "      <th>UnderGrad</th>\n",
       "      <th>PostGrad</th>\n",
       "    </tr>\n",
       "    <tr>\n",
       "      <th>Income_cat</th>\n",
       "      <th></th>\n",
       "      <th></th>\n",
       "    </tr>\n",
       "  </thead>\n",
       "  <tbody>\n",
       "    <tr>\n",
       "      <th>Low</th>\n",
       "      <td>45</td>\n",
       "      <td>0</td>\n",
       "    </tr>\n",
       "    <tr>\n",
       "      <th>Medium</th>\n",
       "      <td>85</td>\n",
       "      <td>5</td>\n",
       "    </tr>\n",
       "    <tr>\n",
       "      <th>High</th>\n",
       "      <td>23</td>\n",
       "      <td>22</td>\n",
       "    </tr>\n",
       "  </tbody>\n",
       "</table>\n",
       "</div>"
      ],
      "text/plain": [
       "Edu_cat     UnderGrad  PostGrad\n",
       "Income_cat                     \n",
       "Low                45         0\n",
       "Medium             85         5\n",
       "High               23        22"
      ]
     },
     "execution_count": 129,
     "metadata": {},
     "output_type": "execute_result"
    }
   ],
   "source": [
    "income_edu= pd.crosstab(df[\"Income_cat\"], df[\"Edu_cat\"])\n",
    "income_edu"
   ]
  },
  {
   "cell_type": "code",
   "execution_count": 130,
   "id": "6cc93839-c5df-48ad-aeb8-03f4b88d117b",
   "metadata": {
    "tags": []
   },
   "outputs": [
    {
     "name": "stdout",
     "output_type": "stream",
     "text": [
      "chi_stat :  54.771241830065364\n",
      "p_value :  1.2781327207250576e-12\n",
      "dof :  2\n",
      "expected_freq \n",
      ": [[38.25  6.75]\n",
      " [76.5  13.5 ]\n",
      " [38.25  6.75]]\n",
      "Interpretation : Reject Ho\n"
     ]
    }
   ],
   "source": [
    "\n",
    "# using Chi Square Test: Test of Independence\n",
    "# Ho : Education Doesnt affect Income (independant)\n",
    "# Ha : Education affects Income (dependant)\n",
    "\n",
    "\n",
    "chi_stat,p_value,dof,expected_freq=chi2_contingency(income_edu)\n",
    "print(\"chi_stat : \",chi_stat)\n",
    "print(\"p_value : \",p_value)\n",
    "print(\"dof : \",dof)\n",
    "print(\"expected_freq \\n:\",expected_freq)\n",
    "alpha = 0.05\n",
    "if p_value <alpha :\n",
    "    print(\"Interpretation : Reject Ho\")\n",
    "else:\n",
    "    print(\"Interpretation : Fail to Reject Ho\")"
   ]
  },
  {
   "cell_type": "raw",
   "id": "acef871f-0315-4a92-8473-3253dbc9c790",
   "metadata": {},
   "source": [
    "- So, Education and Income are independent --> PostGrad preferring KP781 is mostly because of their higher income"
   ]
  },
  {
   "cell_type": "code",
   "execution_count": null,
   "id": "d03b61e1-a3ee-4d7c-8ffa-7b38ccb1ccf3",
   "metadata": {},
   "outputs": [],
   "source": []
  },
  {
   "cell_type": "code",
   "execution_count": 131,
   "id": "0245b6cb-4785-4d1d-ac06-0f14eb574f7a",
   "metadata": {
    "tags": []
   },
   "outputs": [
    {
     "data": {
      "text/html": [
       "<div>\n",
       "<style scoped>\n",
       "    .dataframe tbody tr th:only-of-type {\n",
       "        vertical-align: middle;\n",
       "    }\n",
       "\n",
       "    .dataframe tbody tr th {\n",
       "        vertical-align: top;\n",
       "    }\n",
       "\n",
       "    .dataframe thead th {\n",
       "        text-align: right;\n",
       "    }\n",
       "</style>\n",
       "<table border=\"1\" class=\"dataframe\">\n",
       "  <thead>\n",
       "    <tr style=\"text-align: right;\">\n",
       "      <th>Age_bins</th>\n",
       "      <th>17-25</th>\n",
       "      <th>25-35</th>\n",
       "      <th>35-51</th>\n",
       "    </tr>\n",
       "    <tr>\n",
       "      <th>Product</th>\n",
       "      <th></th>\n",
       "      <th></th>\n",
       "      <th></th>\n",
       "    </tr>\n",
       "  </thead>\n",
       "  <tbody>\n",
       "    <tr>\n",
       "      <th>KP281</th>\n",
       "      <td>34</td>\n",
       "      <td>32</td>\n",
       "      <td>14</td>\n",
       "    </tr>\n",
       "    <tr>\n",
       "      <th>KP481</th>\n",
       "      <td>28</td>\n",
       "      <td>24</td>\n",
       "      <td>8</td>\n",
       "    </tr>\n",
       "    <tr>\n",
       "      <th>KP781</th>\n",
       "      <td>17</td>\n",
       "      <td>17</td>\n",
       "      <td>6</td>\n",
       "    </tr>\n",
       "  </tbody>\n",
       "</table>\n",
       "</div>"
      ],
      "text/plain": [
       "Age_bins  17-25  25-35  35-51\n",
       "Product                      \n",
       "KP281        34     32     14\n",
       "KP481        28     24      8\n",
       "KP781        17     17      6"
      ]
     },
     "execution_count": 131,
     "metadata": {},
     "output_type": "execute_result"
    }
   ],
   "source": [
    "prod_age = pd.crosstab(df[\"Product\"], df[\"Age_bins\"])\n",
    "prod_age"
   ]
  },
  {
   "cell_type": "code",
   "execution_count": 132,
   "id": "8e15d206-0cc2-48cb-8d9a-5bf9adc16f1b",
   "metadata": {
    "tags": []
   },
   "outputs": [
    {
     "name": "stdout",
     "output_type": "stream",
     "text": [
      "chi_stat :  0.5990301964378613\n",
      "p_value :  0.9631713931187564\n",
      "dof :  4\n",
      "expected_freq \n",
      ": [[35.11111111 32.44444444 12.44444444]\n",
      " [26.33333333 24.33333333  9.33333333]\n",
      " [17.55555556 16.22222222  6.22222222]]\n",
      "Interpretation : Fail to Reject Ho\n"
     ]
    }
   ],
   "source": [
    "# using Chi Square Test: Test of Independence\n",
    "# Ho : Age doesnt affect Product Choice ( independant)\n",
    "# Ha : Age affects Product Choice ( dependant)\n",
    "\n",
    "\n",
    "chi_stat,p_value,dof,expected_freq=chi2_contingency(prod_age)\n",
    "print(\"chi_stat : \",chi_stat)\n",
    "print(\"p_value : \",p_value)\n",
    "print(\"dof : \",dof)\n",
    "print(\"expected_freq \\n:\",expected_freq)\n",
    "alpha = 0.05\n",
    "if p_value <alpha :\n",
    "    print(\"Interpretation : Reject Ho\")\n",
    "else:\n",
    "    print(\"Interpretation : Fail to Reject Ho\")"
   ]
  },
  {
   "cell_type": "raw",
   "id": "6322212c-fa38-4d98-87f9-69810c2f8923",
   "metadata": {
    "tags": []
   },
   "source": [
    "- So we can say that age doesnt affect product choice"
   ]
  },
  {
   "cell_type": "code",
   "execution_count": null,
   "id": "038de91a-0a42-4bbd-b1f9-8cda221c5d54",
   "metadata": {},
   "outputs": [],
   "source": []
  },
  {
   "cell_type": "markdown",
   "id": "e54ee1a5-2811-4ddb-a696-809467a3734a",
   "metadata": {},
   "source": [
    "# Visual Analysis:"
   ]
  },
  {
   "cell_type": "code",
   "execution_count": 142,
   "id": "ed673d9c-8da1-41f5-946d-58af16f4d8da",
   "metadata": {
    "tags": []
   },
   "outputs": [
    {
     "data": {
      "text/html": [
       "<div>\n",
       "<style scoped>\n",
       "    .dataframe tbody tr th:only-of-type {\n",
       "        vertical-align: middle;\n",
       "    }\n",
       "\n",
       "    .dataframe tbody tr th {\n",
       "        vertical-align: top;\n",
       "    }\n",
       "\n",
       "    .dataframe thead th {\n",
       "        text-align: right;\n",
       "    }\n",
       "</style>\n",
       "<table border=\"1\" class=\"dataframe\">\n",
       "  <thead>\n",
       "    <tr style=\"text-align: right;\">\n",
       "      <th></th>\n",
       "      <th>Product</th>\n",
       "      <th>Age</th>\n",
       "      <th>Gender</th>\n",
       "      <th>Education</th>\n",
       "      <th>MaritalStatus</th>\n",
       "      <th>Usage</th>\n",
       "      <th>Fitness</th>\n",
       "      <th>Income</th>\n",
       "      <th>Miles</th>\n",
       "      <th>Income_cat</th>\n",
       "      <th>Age_bins</th>\n",
       "      <th>Miles_bins</th>\n",
       "      <th>Edu_cat</th>\n",
       "      <th>Product_Price</th>\n",
       "    </tr>\n",
       "  </thead>\n",
       "  <tbody>\n",
       "    <tr>\n",
       "      <th>0</th>\n",
       "      <td>KP281</td>\n",
       "      <td>18</td>\n",
       "      <td>Male</td>\n",
       "      <td>14</td>\n",
       "      <td>Single</td>\n",
       "      <td>3</td>\n",
       "      <td>4</td>\n",
       "      <td>29562</td>\n",
       "      <td>112</td>\n",
       "      <td>Low</td>\n",
       "      <td>17-25</td>\n",
       "      <td>110+</td>\n",
       "      <td>UnderGrad</td>\n",
       "      <td>1500</td>\n",
       "    </tr>\n",
       "    <tr>\n",
       "      <th>1</th>\n",
       "      <td>KP281</td>\n",
       "      <td>19</td>\n",
       "      <td>Male</td>\n",
       "      <td>15</td>\n",
       "      <td>Single</td>\n",
       "      <td>2</td>\n",
       "      <td>3</td>\n",
       "      <td>31836</td>\n",
       "      <td>75</td>\n",
       "      <td>Low</td>\n",
       "      <td>17-25</td>\n",
       "      <td>&lt;80</td>\n",
       "      <td>UnderGrad</td>\n",
       "      <td>1500</td>\n",
       "    </tr>\n",
       "    <tr>\n",
       "      <th>2</th>\n",
       "      <td>KP281</td>\n",
       "      <td>19</td>\n",
       "      <td>Female</td>\n",
       "      <td>14</td>\n",
       "      <td>Partnered</td>\n",
       "      <td>4</td>\n",
       "      <td>3</td>\n",
       "      <td>30699</td>\n",
       "      <td>66</td>\n",
       "      <td>Low</td>\n",
       "      <td>17-25</td>\n",
       "      <td>&lt;80</td>\n",
       "      <td>UnderGrad</td>\n",
       "      <td>1500</td>\n",
       "    </tr>\n",
       "    <tr>\n",
       "      <th>3</th>\n",
       "      <td>KP281</td>\n",
       "      <td>19</td>\n",
       "      <td>Male</td>\n",
       "      <td>12</td>\n",
       "      <td>Single</td>\n",
       "      <td>3</td>\n",
       "      <td>3</td>\n",
       "      <td>32973</td>\n",
       "      <td>85</td>\n",
       "      <td>Low</td>\n",
       "      <td>17-25</td>\n",
       "      <td>80-110</td>\n",
       "      <td>UnderGrad</td>\n",
       "      <td>1500</td>\n",
       "    </tr>\n",
       "    <tr>\n",
       "      <th>4</th>\n",
       "      <td>KP281</td>\n",
       "      <td>20</td>\n",
       "      <td>Male</td>\n",
       "      <td>13</td>\n",
       "      <td>Partnered</td>\n",
       "      <td>4</td>\n",
       "      <td>2</td>\n",
       "      <td>35247</td>\n",
       "      <td>47</td>\n",
       "      <td>Low</td>\n",
       "      <td>17-25</td>\n",
       "      <td>&lt;80</td>\n",
       "      <td>UnderGrad</td>\n",
       "      <td>1500</td>\n",
       "    </tr>\n",
       "    <tr>\n",
       "      <th>...</th>\n",
       "      <td>...</td>\n",
       "      <td>...</td>\n",
       "      <td>...</td>\n",
       "      <td>...</td>\n",
       "      <td>...</td>\n",
       "      <td>...</td>\n",
       "      <td>...</td>\n",
       "      <td>...</td>\n",
       "      <td>...</td>\n",
       "      <td>...</td>\n",
       "      <td>...</td>\n",
       "      <td>...</td>\n",
       "      <td>...</td>\n",
       "      <td>...</td>\n",
       "    </tr>\n",
       "    <tr>\n",
       "      <th>175</th>\n",
       "      <td>KP781</td>\n",
       "      <td>40</td>\n",
       "      <td>Male</td>\n",
       "      <td>21</td>\n",
       "      <td>Single</td>\n",
       "      <td>6</td>\n",
       "      <td>5</td>\n",
       "      <td>83416</td>\n",
       "      <td>200</td>\n",
       "      <td>High</td>\n",
       "      <td>35-51</td>\n",
       "      <td>110+</td>\n",
       "      <td>PostGrad</td>\n",
       "      <td>2500</td>\n",
       "    </tr>\n",
       "    <tr>\n",
       "      <th>176</th>\n",
       "      <td>KP781</td>\n",
       "      <td>42</td>\n",
       "      <td>Male</td>\n",
       "      <td>18</td>\n",
       "      <td>Single</td>\n",
       "      <td>5</td>\n",
       "      <td>4</td>\n",
       "      <td>89641</td>\n",
       "      <td>200</td>\n",
       "      <td>High</td>\n",
       "      <td>35-51</td>\n",
       "      <td>110+</td>\n",
       "      <td>PostGrad</td>\n",
       "      <td>2500</td>\n",
       "    </tr>\n",
       "    <tr>\n",
       "      <th>177</th>\n",
       "      <td>KP781</td>\n",
       "      <td>45</td>\n",
       "      <td>Male</td>\n",
       "      <td>16</td>\n",
       "      <td>Single</td>\n",
       "      <td>5</td>\n",
       "      <td>5</td>\n",
       "      <td>90886</td>\n",
       "      <td>160</td>\n",
       "      <td>High</td>\n",
       "      <td>35-51</td>\n",
       "      <td>110+</td>\n",
       "      <td>UnderGrad</td>\n",
       "      <td>2500</td>\n",
       "    </tr>\n",
       "    <tr>\n",
       "      <th>178</th>\n",
       "      <td>KP781</td>\n",
       "      <td>47</td>\n",
       "      <td>Male</td>\n",
       "      <td>18</td>\n",
       "      <td>Partnered</td>\n",
       "      <td>4</td>\n",
       "      <td>5</td>\n",
       "      <td>104581</td>\n",
       "      <td>120</td>\n",
       "      <td>High</td>\n",
       "      <td>35-51</td>\n",
       "      <td>110+</td>\n",
       "      <td>PostGrad</td>\n",
       "      <td>2500</td>\n",
       "    </tr>\n",
       "    <tr>\n",
       "      <th>179</th>\n",
       "      <td>KP781</td>\n",
       "      <td>48</td>\n",
       "      <td>Male</td>\n",
       "      <td>18</td>\n",
       "      <td>Partnered</td>\n",
       "      <td>4</td>\n",
       "      <td>5</td>\n",
       "      <td>95508</td>\n",
       "      <td>180</td>\n",
       "      <td>High</td>\n",
       "      <td>35-51</td>\n",
       "      <td>110+</td>\n",
       "      <td>PostGrad</td>\n",
       "      <td>2500</td>\n",
       "    </tr>\n",
       "  </tbody>\n",
       "</table>\n",
       "<p>180 rows × 14 columns</p>\n",
       "</div>"
      ],
      "text/plain": [
       "    Product  Age  Gender  Education MaritalStatus  Usage  Fitness  Income  \\\n",
       "0     KP281   18    Male         14        Single      3        4   29562   \n",
       "1     KP281   19    Male         15        Single      2        3   31836   \n",
       "2     KP281   19  Female         14     Partnered      4        3   30699   \n",
       "3     KP281   19    Male         12        Single      3        3   32973   \n",
       "4     KP281   20    Male         13     Partnered      4        2   35247   \n",
       "..      ...  ...     ...        ...           ...    ...      ...     ...   \n",
       "175   KP781   40    Male         21        Single      6        5   83416   \n",
       "176   KP781   42    Male         18        Single      5        4   89641   \n",
       "177   KP781   45    Male         16        Single      5        5   90886   \n",
       "178   KP781   47    Male         18     Partnered      4        5  104581   \n",
       "179   KP781   48    Male         18     Partnered      4        5   95508   \n",
       "\n",
       "     Miles Income_cat Age_bins Miles_bins    Edu_cat  Product_Price  \n",
       "0      112        Low    17-25       110+  UnderGrad           1500  \n",
       "1       75        Low    17-25        <80  UnderGrad           1500  \n",
       "2       66        Low    17-25        <80  UnderGrad           1500  \n",
       "3       85        Low    17-25     80-110  UnderGrad           1500  \n",
       "4       47        Low    17-25        <80  UnderGrad           1500  \n",
       "..     ...        ...      ...        ...        ...            ...  \n",
       "175    200       High    35-51       110+   PostGrad           2500  \n",
       "176    200       High    35-51       110+   PostGrad           2500  \n",
       "177    160       High    35-51       110+  UnderGrad           2500  \n",
       "178    120       High    35-51       110+   PostGrad           2500  \n",
       "179    180       High    35-51       110+   PostGrad           2500  \n",
       "\n",
       "[180 rows x 14 columns]"
      ]
     },
     "execution_count": 142,
     "metadata": {},
     "output_type": "execute_result"
    }
   ],
   "source": [
    "df"
   ]
  },
  {
   "cell_type": "markdown",
   "id": "da7d88f0-5072-44ad-a81e-47b4248ed3e8",
   "metadata": {},
   "source": [
    "## Barplot"
   ]
  },
  {
   "cell_type": "code",
   "execution_count": 143,
   "id": "b2bd88fb-61f6-4564-9462-c570074c0e7c",
   "metadata": {
    "tags": []
   },
   "outputs": [
    {
     "data": {
      "text/plain": [
       "<Axes: xlabel='Fitness', ylabel='count'>"
      ]
     },
     "execution_count": 143,
     "metadata": {},
     "output_type": "execute_result"
    },
    {
     "data": {
      "image/png": "[encoded data removed]",
      "text/plain": [
       "<Figure size 640x480 with 1 Axes>"
      ]
     },
     "metadata": {},
     "output_type": "display_data"
    }
   ],
   "source": [
    "sns.countplot(data=df, x='Fitness', width = 0.4, color='orange')"
   ]
  },
  {
   "cell_type": "raw",
   "id": "cbb2d3e8-33f7-494f-b0af-52abc195f81f",
   "metadata": {},
   "source": [
    "Most of the users has fitness level=3"
   ]
  },
  {
   "cell_type": "code",
   "execution_count": null,
   "id": "0ed8fee0-68f3-4ba1-8a59-0f236c264bcf",
   "metadata": {},
   "outputs": [],
   "source": []
  },
  {
   "cell_type": "markdown",
   "id": "7c256ce3-d28e-44dc-b0f6-da40749f31d5",
   "metadata": {},
   "source": [
    "## Histogram"
   ]
  },
  {
   "cell_type": "code",
   "execution_count": 144,
   "id": "0c2cd439-8567-4883-92ae-64ac6870738c",
   "metadata": {
    "tags": []
   },
   "outputs": [
    {
     "data": {
      "text/plain": [
       "<Axes: xlabel='Miles', ylabel='Count'>"
      ]
     },
     "execution_count": 144,
     "metadata": {},
     "output_type": "execute_result"
    },
    {
     "data": {
      "image/png": "[encoded data removed]",
      "text/plain": [
       "<Figure size 640x480 with 1 Axes>"
      ]
     },
     "metadata": {},
     "output_type": "display_data"
    }
   ],
   "source": [
    "sns.histplot(df[\"Miles\"], bins=10)"
   ]
  },
  {
   "cell_type": "raw",
   "id": "74fe6012-a331-43b2-919f-c88a3c5e3635",
   "metadata": {},
   "source": [
    "Most of the users walks/runs 50-125 miles per week"
   ]
  },
  {
   "cell_type": "code",
   "execution_count": null,
   "id": "881e5c3b-05f2-4b22-93d1-9b500df02c9d",
   "metadata": {},
   "outputs": [],
   "source": []
  },
  {
   "cell_type": "markdown",
   "id": "6108c05e-3b61-49c3-8f4f-375feb749991",
   "metadata": {},
   "source": [
    "## Scatterplot"
   ]
  },
  {
   "cell_type": "code",
   "execution_count": 145,
   "id": "b3ca01db-580a-49ed-861e-a7619370c1fe",
   "metadata": {
    "tags": []
   },
   "outputs": [
    {
     "data": {
      "text/plain": [
       "<Axes: xlabel='Income', ylabel='Miles'>"
      ]
     },
     "execution_count": 145,
     "metadata": {},
     "output_type": "execute_result"
    },
    {
     "data": {
      "image/png": "[encoded data removed]",
      "text/plain": [
       "<Figure size 640x480 with 1 Axes>"
      ]
     },
     "metadata": {},
     "output_type": "display_data"
    }
   ],
   "source": [
    "sns.scatterplot(df, x=\"Income\", y=\"Miles\")"
   ]
  },
  {
   "cell_type": "raw",
   "id": "ab9c3ee3-39a3-4fa0-91da-0c5243bc3adb",
   "metadata": {},
   "source": [
    "High income category seems to run more miles"
   ]
  },
  {
   "cell_type": "code",
   "execution_count": null,
   "id": "d44ce3aa-3e43-43dc-8aec-33024fbfb47b",
   "metadata": {},
   "outputs": [],
   "source": []
  },
  {
   "cell_type": "markdown",
   "id": "8665afb1-6809-48cf-a973-2777f17ec8ca",
   "metadata": {},
   "source": [
    "## Histplot"
   ]
  },
  {
   "cell_type": "code",
   "execution_count": 146,
   "id": "f099496e-7404-4a1b-915e-79cf38b358e5",
   "metadata": {
    "tags": []
   },
   "outputs": [
    {
     "data": {
      "text/plain": [
       "<Axes: xlabel='Product', ylabel='Count'>"
      ]
     },
     "execution_count": 146,
     "metadata": {},
     "output_type": "execute_result"
    },
    {
     "data": {
      "image/png": "[encoded data removed]",
      "text/plain": [
       "<Figure size 640x480 with 1 Axes>"
      ]
     },
     "metadata": {},
     "output_type": "display_data"
    }
   ],
   "source": [
    "sns.histplot(df, x=\"Product\", hue=\"Income_cat\", multiple = \"fill\")"
   ]
  },
  {
   "cell_type": "raw",
   "id": "70fc984e-3105-40a2-bd05-8846fa847735",
   "metadata": {
    "tags": []
   },
   "source": [
    "Medium Income category is almost equally likely to buy KP281 and KP481"
   ]
  },
  {
   "cell_type": "code",
   "execution_count": null,
   "id": "36b251b7-8f8b-45e4-85b7-091d35191001",
   "metadata": {},
   "outputs": [],
   "source": []
  },
  {
   "cell_type": "markdown",
   "id": "a59730ef-6021-4265-b951-f5717b6cc55f",
   "metadata": {},
   "source": [
    "## Dodged bar plot"
   ]
  },
  {
   "cell_type": "code",
   "execution_count": 147,
   "id": "840cce51-fced-4eeb-a106-30929c8b81e8",
   "metadata": {
    "tags": []
   },
   "outputs": [
    {
     "data": {
      "text/plain": [
       "<Axes: xlabel='Product', ylabel='count'>"
      ]
     },
     "execution_count": 147,
     "metadata": {},
     "output_type": "execute_result"
    },
    {
     "data": {
      "image/png": "[encoded data removed]",
      "text/plain": [
       "<Figure size 640x480 with 1 Axes>"
      ]
     },
     "metadata": {},
     "output_type": "display_data"
    }
   ],
   "source": [
    "sns.countplot(df, x=\"Product\", hue=\"Gender\")"
   ]
  },
  {
   "cell_type": "raw",
   "id": "5a17b592-9b53-48e0-8b76-478bf159f836",
   "metadata": {},
   "source": [
    "- Gender seems to have no preference for Product except for KP781 which is the top model\n",
    "- Female seems to not prefer KP781"
   ]
  },
  {
   "cell_type": "code",
   "execution_count": null,
   "id": "33eaf85a-5f64-48c2-9ac1-fe2dbe22021d",
   "metadata": {},
   "outputs": [],
   "source": []
  },
  {
   "cell_type": "code",
   "execution_count": 148,
   "id": "1d02bb02-2b4f-41ec-876c-8c0225832bfc",
   "metadata": {
    "tags": []
   },
   "outputs": [
    {
     "data": {
      "text/plain": [
       "<Axes: xlabel='Product', ylabel='count'>"
      ]
     },
     "execution_count": 148,
     "metadata": {},
     "output_type": "execute_result"
    },
    {
     "data": {
      "image/png": "[encoded data removed]",
      "text/plain": [
       "<Figure size 640x480 with 1 Axes>"
      ]
     },
     "metadata": {},
     "output_type": "display_data"
    }
   ],
   "source": [
    "sns.countplot(df.loc[df[\"Income_cat\"]==\"High\"], x=\"Product\", hue=\"Gender\")"
   ]
  },
  {
   "cell_type": "raw",
   "id": "0eea37ac-b4c9-4e21-b6eb-6b3d3b6826f5",
   "metadata": {
    "tags": []
   },
   "source": [
    "- The high income category female seems to have no preference for Product unlike male.\n",
    "- This also supports our earlier claim based on hypothesis testing, that there might be other factor (other than income)\n",
    "  why high income female doesnt prefer KP781 as much as high income male\n",
    "- There is a potential growth opportunity, if we could convince more females to buy KP781"
   ]
  },
  {
   "cell_type": "code",
   "execution_count": null,
   "id": "d649f1b6-122e-48f5-901b-b8e1b15b49b3",
   "metadata": {},
   "outputs": [],
   "source": []
  },
  {
   "cell_type": "markdown",
   "id": "29811a35-5195-4f4e-a670-53b374de50ee",
   "metadata": {
    "tags": []
   },
   "source": [
    "## Boxplot"
   ]
  },
  {
   "cell_type": "code",
   "execution_count": 149,
   "id": "ef227ccc-1c75-456b-a7a7-7286112afaf7",
   "metadata": {
    "tags": []
   },
   "outputs": [
    {
     "data": {
      "text/plain": [
       "<seaborn.axisgrid.FacetGrid at 0x18cca0f3a50>"
      ]
     },
     "execution_count": 149,
     "metadata": {},
     "output_type": "execute_result"
    },
    {
     "data": {
      "image/png": "[encoded data removed]",
      "text/plain": [
       "<Figure size 558.986x500 with 1 Axes>"
      ]
     },
     "metadata": {},
     "output_type": "display_data"
    }
   ],
   "source": [
    "sns.catplot(df, x='Product', y='Income', hue=\"Fitness\", kind = \"box\")"
   ]
  },
  {
   "cell_type": "code",
   "execution_count": 150,
   "id": "5966fdad-fb2c-486b-9c75-8dcf4f831655",
   "metadata": {
    "tags": []
   },
   "outputs": [
    {
     "data": {
      "text/plain": [
       "<seaborn.axisgrid.FacetGrid at 0x18cca145390>"
      ]
     },
     "execution_count": 150,
     "metadata": {},
     "output_type": "execute_result"
    },
    {
     "data": {
      "image/png": "[encoded data removed]",
      "text/plain": [
       "<Figure size 500x500 with 1 Axes>"
      ]
     },
     "metadata": {},
     "output_type": "display_data"
    }
   ],
   "source": [
    "sns.catplot(df, x='Product', y='Miles', kind = \"box\")"
   ]
  },
  {
   "cell_type": "raw",
   "id": "a66fb8a3-cb44-4c95-a8df-930e08ca55eb",
   "metadata": {},
   "source": [
    "- users with more advanced product KP781 tends to run more miles and so see themselves as more fit\n",
    "- we can pitch this fact to High Income Category women to tempt them to buy KP781"
   ]
  },
  {
   "cell_type": "code",
   "execution_count": null,
   "id": "3efc60bc-b9d2-44d4-b3cb-9c53ae5beeaf",
   "metadata": {},
   "outputs": [],
   "source": []
  },
  {
   "cell_type": "code",
   "execution_count": 151,
   "id": "c00f47b7-df44-4fc0-8efa-24d9d831d114",
   "metadata": {
    "tags": []
   },
   "outputs": [
    {
     "data": {
      "text/plain": [
       "<seaborn.axisgrid.FacetGrid at 0x18cca0278d0>"
      ]
     },
     "execution_count": 151,
     "metadata": {},
     "output_type": "execute_result"
    },
    {
     "data": {
      "image/png": "[encoded data removed]",
      "text/plain": [
       "<Figure size 1600.25x500 with 3 Axes>"
      ]
     },
     "metadata": {},
     "output_type": "display_data"
    }
   ],
   "source": [
    "sns.catplot(df, x='Income_cat', y='Miles', hue=\"Gender\", kind = \"box\", col=\"Product\")"
   ]
  },
  {
   "cell_type": "raw",
   "id": "b7ad9bea-648d-41a0-9c05-a6472823e9a5",
   "metadata": {
    "tags": []
   },
   "source": [
    "- It shows that Income is independent of Miles ran per week\n",
    "- users with more advanced product KP781 tends to run more miles\n",
    "- [IMP] At first, it may seem like high income people run more miles but actually, it is because \n",
    "  high income people preferring KP781 leading them to run more miles."
   ]
  },
  {
   "cell_type": "markdown",
   "id": "ffbf46ac-7adb-4e3e-a2dc-3277dbd80e57",
   "metadata": {},
   "source": [
    "## Heatmap"
   ]
  },
  {
   "cell_type": "code",
   "execution_count": 152,
   "id": "43c878b8-5cb1-4375-9bcd-27b42aa2e4cc",
   "metadata": {
    "tags": []
   },
   "outputs": [
    {
     "name": "stderr",
     "output_type": "stream",
     "text": [
      "C:\\Users\\DELL\\AppData\\Local\\Temp\\ipykernel_3552\\591915564.py:1: FutureWarning: The default value of numeric_only in DataFrame.corr is deprecated. In a future version, it will default to False. Select only valid columns or specify the value of numeric_only to silence this warning.\n",
      "  sns.heatmap(df.corr(), annot=True, cmap=\"Greens\")\n"
     ]
    },
    {
     "data": {
      "text/plain": [
       "<Axes: >"
      ]
     },
     "execution_count": 152,
     "metadata": {},
     "output_type": "execute_result"
    },
    {
     "data": {
      "image/png": "[encoded data removed]",
      "text/plain": [
       "<Figure size 640x480 with 2 Axes>"
      ]
     },
     "metadata": {},
     "output_type": "display_data"
    }
   ],
   "source": [
    "sns.heatmap(df.corr(), annot=True, cmap=\"Greens\")"
   ]
  },
  {
   "cell_type": "raw",
   "id": "5159886c-34d4-4697-bbc2-56239bb90db1",
   "metadata": {},
   "source": [
    "- Higher income people are more likely to buy top expensive model\n",
    "- Age and miles ran per week has weak correlation\n",
    "- Product preference doesnt seem to depend on Age\n",
    "- Usage, Fitness are strongly correlated with Miles ran."
   ]
  },
  {
   "cell_type": "code",
   "execution_count": null,
   "id": "4b24bb15-aa67-4da4-a4be-f12c4eaa2f14",
   "metadata": {},
   "outputs": [],
   "source": []
  },
  {
   "cell_type": "code",
   "execution_count": null,
   "id": "9e3c8234-319a-4598-84a3-040690a1dbe2",
   "metadata": {},
   "outputs": [],
   "source": []
  },
  {
   "cell_type": "markdown",
   "id": "1bee9186-94d3-40cf-bb66-b1276d1fdaa1",
   "metadata": {},
   "source": [
    "# Recommendations and Customer Profiling:"
   ]
  },
  {
   "cell_type": "raw",
   "id": "bfdbf426-2acb-471e-b2d5-5c8415013b42",
   "metadata": {},
   "source": []
  },
  {
   "cell_type": "raw",
   "id": "d8e87add-15a0-4b7e-860c-9ca68892e5be",
   "metadata": {},
   "source": [
    "Recommendations:\n",
    "\n",
    "- Launch new versions of KP781 with some design & color modification unique to KP781 model such that it will be appealing to women.\n",
    "\n",
    "- Ask Sales team to push the Medium Income category users to buy KP481 over KP281.\n",
    "\n",
    "- \"users with KP781 tends to run more miles and so are more fit.\"  Ask Aerofit's Sales and Marketing team to use \n",
    "   this fact on Medium Income Categoty and Women from High Income Category so that they will be temped to buy KP781 model.\n",
    "\n",
    "- Tie up with Banks/BNPL firms to bring attractive EMI schemes specifically for Low, Medium Income Category."
   ]
  },
  {
   "cell_type": "raw",
   "id": "13d7731a-b4bb-4519-8658-09d0e58300f5",
   "metadata": {},
   "source": [
    "Customer Profiling:\n",
    "\n",
    "Customer profile for KP781:\n",
    "    - People having income more than 59k\n",
    "    - People planning to use treadmill for at least 4 times a week (usage>=4)\n",
    "    - People having Edu_cat as PostGrad (18 <= Education <= 21)\n",
    "\n",
    "Customer profile for KP481:\n",
    "    - People having income between 29k to 59k\n",
    "    - People with planned weekly usage less than 5 (usage <= 4)\n",
    "    - People having Edu_cat as UnderGrad (11 <= Education <= 17)\n",
    "\n",
    "Customer profile for KP281:\n",
    "    - Female customers\n",
    "    - People having income between 29k to 44k\n",
    "    - People with planned weekly usage less than 5 (usage <= 4)\n",
    "    - People having Edu_cat as UnderGrad (11 <= Education <= 17)\n"
   ]
  },
  {
   "cell_type": "code",
   "execution_count": null,
   "id": "ab099bd9-197d-4faf-bd97-7b7b7249d71e",
   "metadata": {},
   "outputs": [],
   "source": []
  },
  {
   "cell_type": "code",
   "execution_count": null,
   "id": "b5c7d3c3-1ecd-4dfe-a53b-655b760ca6cd",
   "metadata": {},
   "outputs": [],
   "source": []
  }
 ],
 "metadata": {
  "kernelspec": {
   "display_name": "Python 3 (ipykernel)",
   "language": "python",
   "name": "python3"
  },
  "language_info": {
   "codemirror_mode": {
    "name": "ipython",
    "version": 3
   },
   "file_extension": ".py",
   "mimetype": "text/x-python",
   "name": "python",
   "nbconvert_exporter": "python",
   "pygments_lexer": "ipython3",
   "version": "3.11.4"
  },
  "toc-autonumbering": true
 },
 "nbformat": 4,
 "nbformat_minor": 5
}
